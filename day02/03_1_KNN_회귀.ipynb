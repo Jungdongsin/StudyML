{
 "cells": [
  {
   "cell_type": "markdown",
   "metadata": {},
   "source": [
    "#### 사전 준비"
   ]
  },
  {
   "cell_type": "code",
   "execution_count": 1,
   "metadata": {},
   "outputs": [],
   "source": [
    "# 기본적인 패키지부터 추가\n",
    "import numpy as np\n",
    "import pandas as pd\n",
    "import scipy as super\n",
    "\n",
    "import matplotlib as mpl\n",
    "import matplotlib.pyplot as plt\n",
    "import seaborn as sns"
   ]
  },
  {
   "cell_type": "code",
   "execution_count": 1,
   "metadata": {},
   "outputs": [
    {
     "ename": "NameError",
     "evalue": "name 'plt' is not defined",
     "output_type": "error",
     "traceback": [
      "\u001b[1;31m---------------------------------------------------------------------------\u001b[0m",
      "\u001b[1;31mNameError\u001b[0m                                 Traceback (most recent call last)",
      "\u001b[1;32mc:\\Users\\정동신\\Documents\\GitHub\\StudyML\\day02\\03_1_KNN_회귀.ipynb 셀 3\u001b[0m in \u001b[0;36m<cell line: 5>\u001b[1;34m()\u001b[0m\n\u001b[0;32m      <a href='vscode-notebook-cell:/c%3A/Users/%EC%A0%95%EB%8F%99%EC%8B%A0/Documents/GitHub/StudyML/day02/03_1_KNN_%ED%9A%8C%EA%B7%80.ipynb#W2sZmlsZQ%3D%3D?line=1'>2</a>\u001b[0m \u001b[39mfrom\u001b[39;00m \u001b[39mmatplotlib\u001b[39;00m \u001b[39mimport\u001b[39;00m rc\n\u001b[0;32m      <a href='vscode-notebook-cell:/c%3A/Users/%EC%A0%95%EB%8F%99%EC%8B%A0/Documents/GitHub/StudyML/day02/03_1_KNN_%ED%9A%8C%EA%B7%80.ipynb#W2sZmlsZQ%3D%3D?line=2'>3</a>\u001b[0m \u001b[39mimport\u001b[39;00m \u001b[39mmatplotlib\u001b[39;00m\u001b[39m.\u001b[39;00m\u001b[39mfont_manager\u001b[39;00m \u001b[39mas\u001b[39;00m \u001b[39mfm\u001b[39;00m\n\u001b[1;32m----> <a href='vscode-notebook-cell:/c%3A/Users/%EC%A0%95%EB%8F%99%EC%8B%A0/Documents/GitHub/StudyML/day02/03_1_KNN_%ED%9A%8C%EA%B7%80.ipynb#W2sZmlsZQ%3D%3D?line=4'>5</a>\u001b[0m plt\u001b[39m.\u001b[39mrc(\u001b[39m'\u001b[39m\u001b[39mfont\u001b[39m\u001b[39m'\u001b[39m, family\u001b[39m=\u001b[39m\u001b[39m'\u001b[39m\u001b[39mMalgun Gothic\u001b[39m\u001b[39m'\u001b[39m)\n\u001b[0;32m      <a href='vscode-notebook-cell:/c%3A/Users/%EC%A0%95%EB%8F%99%EC%8B%A0/Documents/GitHub/StudyML/day02/03_1_KNN_%ED%9A%8C%EA%B7%80.ipynb#W2sZmlsZQ%3D%3D?line=5'>6</a>\u001b[0m sns\u001b[39m.\u001b[39mset(font\u001b[39m=\u001b[39m\u001b[39m'\u001b[39m\u001b[39mMalgun Gothic\u001b[39m\u001b[39m'\u001b[39m, rc\u001b[39m=\u001b[39m{\u001b[39m'\u001b[39m\u001b[39maxes.unicode_minus\u001b[39m\u001b[39m'\u001b[39m:\u001b[39mFalse\u001b[39;00m}, style\u001b[39m=\u001b[39m\u001b[39m'\u001b[39m\u001b[39mdarkgrid\u001b[39m\u001b[39m'\u001b[39m)\n",
      "\u001b[1;31mNameError\u001b[0m: name 'plt' is not defined"
     ]
    }
   ],
   "source": [
    "# 한글 설정/차트 마이너스 깨짐현상 해결 / seaborn 화면설정\n",
    "from matplotlib import rc\n",
    "import matplotlib.font_manager as fm\n",
    "\n",
    "plt.rc('font', family='Malgun Gothic')\n",
    "sns.set(font='Malgun Gothic', rc={'axes.unicode_minus':False}, style='darkgrid')"
   ]
  },
  {
   "cell_type": "code",
   "execution_count": null,
   "metadata": {},
   "outputs": [],
   "source": [
    "# 머신러닝 패키지 import\n",
    "import statsmodels.api as sm #안쓸듯\n",
    "import sklearn as sk"
   ]
  },
  {
   "cell_type": "markdown",
   "metadata": {},
   "source": [
    "#### 전체 데이터로드\n",
    "농어 길이, 무게 45개 샘플"
   ]
  },
  {
   "cell_type": "code",
   "execution_count": 28,
   "metadata": {},
   "outputs": [],
   "source": [
    "perch_length = np.array([8.4, 13.7, 15.0, 16.2, 17.4, 18.0, 18.7, 19.0, 19.6, 20.0, 21.0,\n",
    "       21.0, 21.0, 21.3, 22.0, 22.0, 22.0, 22.0, 22.0, 22.5, 22.5, 22.7,\n",
    "       23.0, 23.5, 24.0, 24.0, 24.6, 25.0, 25.6, 26.5, 27.3, 27.5, 27.5,\n",
    "       27.5, 28.0, 28.7, 30.0, 32.8, 34.5, 35.0, 36.5, 36.0, 37.0, 37.0,\n",
    "       39.0, 39.0, 39.0, 40.0, 40.0, 40.0, 40.0, 42.0, 43.0, 43.0, 43.5,\n",
    "       44.0])\n",
    "perch_weight = np.array([5.9, 32.0, 40.0, 51.5, 70.0, 100.0, 78.0, 80.0, 85.0, 85.0, 110.0,\n",
    "       115.0, 125.0, 130.0, 120.0, 120.0, 130.0, 135.0, 110.0, 130.0,\n",
    "       150.0, 145.0, 150.0, 170.0, 225.0, 145.0, 188.0, 180.0, 197.0,\n",
    "       218.0, 300.0, 260.0, 265.0, 250.0, 250.0, 300.0, 320.0, 514.0,\n",
    "       556.0, 840.0, 685.0, 700.0, 700.0, 690.0, 900.0, 650.0, 820.0,\n",
    "       850.0, 900.0, 1015.0, 820.0, 1100.0, 1000.0, 1100.0, 1000.0,\n",
    "       1000.0])"
   ]
  },
  {
   "cell_type": "markdown",
   "metadata": {},
   "source": [
    "##### 농어 길이와 무게간 상관관계 확인"
   ]
  },
  {
   "cell_type": "code",
   "execution_count": 6,
   "metadata": {},
   "outputs": [
    {
     "data": {
      "image/png": "[encoded data removed]",
      "text/plain": [
       "<Figure size 720x360 with 1 Axes>"
      ]
     },
     "metadata": {},
     "output_type": "display_data"
    }
   ],
   "source": [
    "plt.figure(figsize=(10,5))\n",
    "plt.scatter(x=perch_length, y=perch_weight)\n",
    "plt.title(\"농어 데이터\")\n",
    "plt.xlabel(\"길이(cm)\")\n",
    "plt.ylabel(\"무게(g)\")\n",
    "\n",
    "plt.show()"
   ]
  },
  {
   "cell_type": "markdown",
   "metadata": {},
   "source": [
    "#### 훈련세트 테스트세트 분리"
   ]
  },
  {
   "cell_type": "code",
   "execution_count": 29,
   "metadata": {},
   "outputs": [],
   "source": [
    "from sklearn.model_selection import train_test_split\n",
    "\n",
    "train_input, test_input, train_target, test_target = train_test_split(perch_length, perch_weight, random_state=42)"
   ]
  },
  {
   "cell_type": "code",
   "execution_count": 8,
   "metadata": {},
   "outputs": [
    {
     "data": {
      "text/plain": [
       "array([19.6, 22. , 18.7, 17.4, 36. , 25. , 40. , 39. , 43. , 22. , 20. ,\n",
       "       22. , 24. , 27.5, 43. , 40. , 24. , 21. , 27.5, 40. , 32.8, 26.5,\n",
       "       36.5, 13.7, 22.7, 15. , 37. , 35. , 28.7, 23.5, 39. , 21. , 23. ,\n",
       "       22. , 44. , 22.5, 19. , 37. , 22. , 25.6, 42. , 34.5])"
      ]
     },
     "execution_count": 8,
     "metadata": {},
     "output_type": "execute_result"
    }
   ],
   "source": [
    "# 훈련세트는 2차원 배열이어야하는데\n",
    "train_input"
   ]
  },
  {
   "cell_type": "code",
   "execution_count": 11,
   "metadata": {},
   "outputs": [
    {
     "data": {
      "text/plain": [
       "(42,)"
      ]
     },
     "execution_count": 11,
     "metadata": {},
     "output_type": "execute_result"
    }
   ],
   "source": [
    "train_input.shape\n",
    "#1차원 배열임"
   ]
  },
  {
   "cell_type": "code",
   "execution_count": 33,
   "metadata": {},
   "outputs": [
    {
     "data": {
      "text/plain": [
       "(1, 42)"
      ]
     },
     "execution_count": 33,
     "metadata": {},
     "output_type": "execute_result"
    }
   ],
   "source": [
    "temp = np.column_stack((train_input))\n",
    "temp.shape\n",
    "#우리가 만드려고 하는 형식이 아님"
   ]
  },
  {
   "cell_type": "code",
   "execution_count": 49,
   "metadata": {},
   "outputs": [
    {
     "data": {
      "text/plain": [
       "(42, 1)"
      ]
     },
     "execution_count": 49,
     "metadata": {},
     "output_type": "execute_result"
    }
   ],
   "source": [
    "# 2차원 형태 변환(1번째 방법)\n",
    "new_train_input = train_input.reshape(-1,1)\n",
    "new_train_input.shape"
   ]
  },
  {
   "cell_type": "code",
   "execution_count": 38,
   "metadata": {},
   "outputs": [
    {
     "data": {
      "text/plain": [
       "array([[  85.],\n",
       "       [ 135.],\n",
       "       [  78.],\n",
       "       [  70.],\n",
       "       [ 700.],\n",
       "       [ 180.],\n",
       "       [ 850.],\n",
       "       [ 820.],\n",
       "       [1000.],\n",
       "       [ 120.],\n",
       "       [  85.],\n",
       "       [ 130.],\n",
       "       [ 225.],\n",
       "       [ 260.],\n",
       "       [1100.],\n",
       "       [ 900.],\n",
       "       [ 145.],\n",
       "       [ 115.],\n",
       "       [ 265.],\n",
       "       [1015.],\n",
       "       [ 514.],\n",
       "       [ 218.],\n",
       "       [ 685.],\n",
       "       [  32.],\n",
       "       [ 145.],\n",
       "       [  40.],\n",
       "       [ 690.],\n",
       "       [ 840.],\n",
       "       [ 300.],\n",
       "       [ 170.],\n",
       "       [ 650.],\n",
       "       [ 110.],\n",
       "       [ 150.],\n",
       "       [ 110.],\n",
       "       [1000.],\n",
       "       [ 150.],\n",
       "       [  80.],\n",
       "       [ 700.],\n",
       "       [ 120.],\n",
       "       [ 197.],\n",
       "       [1100.],\n",
       "       [ 556.]])"
      ]
     },
     "execution_count": 38,
     "metadata": {},
     "output_type": "execute_result"
    }
   ],
   "source": [
    "# 2차원 형태 변환(2번째 방법)\n",
    "new_train_target = np.row_stack((train_target))\n",
    "new_train_target"
   ]
  },
  {
   "cell_type": "code",
   "execution_count": 46,
   "metadata": {},
   "outputs": [],
   "source": [
    "new_test_input = np.row_stack((test_input))\n",
    "new_test_target = np.row_stack((test_target))"
   ]
  },
  {
   "cell_type": "code",
   "execution_count": 40,
   "metadata": {},
   "outputs": [
    {
     "name": "stdout",
     "output_type": "stream",
     "text": [
      "(42, 1) (42, 1)\n"
     ]
    }
   ],
   "source": [
    "print(new_train_input.shape,new_train_target.shape)"
   ]
  },
  {
   "cell_type": "markdown",
   "metadata": {},
   "source": [
    "### 결정계수($R^2$)\n",
    "- Tex문법"
   ]
  },
  {
   "cell_type": "code",
   "execution_count": 41,
   "metadata": {},
   "outputs": [],
   "source": [
    "from sklearn.neighbors import KNeighborsRegressor"
   ]
  },
  {
   "cell_type": "code",
   "execution_count": 81,
   "metadata": {},
   "outputs": [
    {
     "data": {
      "text/plain": [
       "KNeighborsRegressor()"
      ]
     },
     "execution_count": 81,
     "metadata": {},
     "output_type": "execute_result"
    }
   ],
   "source": [
    "knr = KNeighborsRegressor()\n",
    "# KNN훈련 (반드시 훈련세트는 2차원배열이 돼야함!!!)\n",
    "#knr.fit(X=train_input, y=train_target) # 1차원배열이라 사용 불가\n",
    "knr.fit(X=new_train_input, y=train_target) # 1차원배열이라 사용 불가"
   ]
  },
  {
   "cell_type": "code",
   "execution_count": 82,
   "metadata": {},
   "outputs": [
    {
     "data": {
      "text/plain": [
       "0.992809406101064"
      ]
     },
     "execution_count": 82,
     "metadata": {},
     "output_type": "execute_result"
    }
   ],
   "source": [
    "# 테스트시에도 X값은 2차원배열 돼야함!!!\n",
    "#knr.score(X=test_input, y=test_target)\n",
    "knr.score(X=new_test_input, y=test_target)\n",
    "# 결정계수 = 0.9928"
   ]
  },
  {
   "cell_type": "markdown",
   "metadata": {},
   "source": [
    "### MAE\n",
    "Mean Absolute Error (평균 절대값 오차)"
   ]
  },
  {
   "cell_type": "code",
   "execution_count": 84,
   "metadata": {},
   "outputs": [],
   "source": [
    "from sklearn.metrics import mean_absolute_error\n",
    "\n",
    "# 테스트 세트에 대한 예측을 만듦\n",
    "test_pred = knr.predict(X=new_test_input)"
   ]
  },
  {
   "cell_type": "code",
   "execution_count": 85,
   "metadata": {},
   "outputs": [
    {
     "data": {
      "text/plain": [
       "array([[ 8.4],\n",
       "       [18. ],\n",
       "       [27.5],\n",
       "       [21.3],\n",
       "       [22.5],\n",
       "       [40. ],\n",
       "       [30. ],\n",
       "       [24.6],\n",
       "       [39. ],\n",
       "       [21. ],\n",
       "       [43.5],\n",
       "       [16.2],\n",
       "       [28. ],\n",
       "       [27.3]])"
      ]
     },
     "execution_count": 85,
     "metadata": {},
     "output_type": "execute_result"
    }
   ],
   "source": [
    "# 실제 테스트할 농어 길이 리스트\n",
    "new_test_input"
   ]
  },
  {
   "cell_type": "code",
   "execution_count": 86,
   "metadata": {},
   "outputs": [
    {
     "data": {
      "text/plain": [
       "array([   5.9,  100. ,  250. ,  130. ,  130. ,  820. ,  320. ,  188. ,\n",
       "        900. ,  125. , 1000. ,   51.5,  250. ,  300. ])"
      ]
     },
     "execution_count": 86,
     "metadata": {},
     "output_type": "execute_result"
    }
   ],
   "source": [
    "# 실제 측정된 농어의 무게 리스트\n",
    "test_target"
   ]
  },
  {
   "cell_type": "code",
   "execution_count": 87,
   "metadata": {},
   "outputs": [
    {
     "data": {
      "text/plain": [
       "array([  60. ,   79.6,  248. ,  122. ,  136. ,  847. ,  311.4,  183.4,\n",
       "        847. ,  113. , 1010. ,   60. ,  248. ,  248. ])"
      ]
     },
     "execution_count": 87,
     "metadata": {},
     "output_type": "execute_result"
    }
   ],
   "source": [
    "# 예측된 무게 세트\n",
    "test_pred"
   ]
  },
  {
   "cell_type": "code",
   "execution_count": 61,
   "metadata": {},
   "outputs": [
    {
     "data": {
      "text/plain": [
       "19.157142857142862"
      ]
     },
     "execution_count": 61,
     "metadata": {},
     "output_type": "execute_result"
    }
   ],
   "source": [
    "# 테스트 타겟 세트에 대한 평균 절대값 오차(MAE)를 계산\n",
    "mae = mean_absolute_error(y_true=test_target, y_pred=test_pred)\n",
    "mae"
   ]
  },
  {
   "cell_type": "markdown",
   "metadata": {},
   "source": [
    "결과에서 예측이 평균적으로 19.15g 정도 타깃값과 다르게 예측되었음"
   ]
  },
  {
   "cell_type": "markdown",
   "metadata": {},
   "source": [
    "#### 과소적합(underfitting)\n",
    "\n",
    "- 훈련세트보다 테스트세트의 테스팅 결과(결정계수값)가 더 좋을 경우\n",
    "- 훈련세트와 테스트세트의 결정계수값이 모두 낮은 경우"
   ]
  },
  {
   "cell_type": "code",
   "execution_count": null,
   "metadata": {},
   "outputs": [],
   "source": [
    "\"\"\"# 테스트시에도 X값은 2차원배열 돼야함!!!\n",
    "knr.score(X=new_test_input, y=test_target)\n",
    "# 결정계수 = 0.9928\"\"\""
   ]
  },
  {
   "cell_type": "code",
   "execution_count": 63,
   "metadata": {},
   "outputs": [
    {
     "data": {
      "text/plain": [
       "0.9698823289099254"
      ]
     },
     "execution_count": 63,
     "metadata": {},
     "output_type": "execute_result"
    }
   ],
   "source": [
    "# 실제 테스트로 결정계수 구하기\n",
    "knr.score(X=new_train_input, y=train_target)"
   ]
  },
  {
   "cell_type": "markdown",
   "metadata": {},
   "source": [
    "#### 과대적합(overfitting)\n",
    "\n",
    "- 훈련세트로 나온 결정계수는 매우 좋음, 근데 테스트세트에서 나온 결정계수가 매우 나쁠때"
   ]
  },
  {
   "cell_type": "markdown",
   "metadata": {},
   "source": [
    "### 현재의 과소적합 문제를 해결할 방법\n",
    "\n",
    "모델을 조금 더 복잡하게 만들면 된다 -> n_neighbors 기본 5"
   ]
  },
  {
   "cell_type": "code",
   "execution_count": 64,
   "metadata": {},
   "outputs": [
    {
     "data": {
      "text/plain": [
       "0.9746459963987609"
      ]
     },
     "execution_count": 64,
     "metadata": {},
     "output_type": "execute_result"
    }
   ],
   "source": [
    "# 최근접 이웃의 갯수를 줄임\n",
    "knr.n_neighbors = 3 # 원래 5\n",
    "\n",
    "# 재훈련\n",
    "knr.fit(X=new_train_input, y=train_target)\n",
    "knr.score(X=new_test_input, y=test_target)"
   ]
  },
  {
   "cell_type": "code",
   "execution_count": 65,
   "metadata": {},
   "outputs": [
    {
     "data": {
      "text/plain": [
       "0.9804899950518966"
      ]
     },
     "execution_count": 65,
     "metadata": {},
     "output_type": "execute_result"
    }
   ],
   "source": [
    "knr.score(X=new_train_input, y=train_target)\n",
    "# 과소적합 문제를 해결함 [훈련 결정계수 > 테스트 결정계수]"
   ]
  },
  {
   "cell_type": "markdown",
   "metadata": {},
   "source": [
    "### 확인문제"
   ]
  },
  {
   "cell_type": "code",
   "execution_count": 80,
   "metadata": {},
   "outputs": [
    {
     "data": {
      "image/png": "[encoded data removed]",
      "text/plain": [
       "<Figure size 720x360 with 1 Axes>"
      ]
     },
     "metadata": {},
     "output_type": "display_data"
    },
    {
     "data": {
      "image/png": "[encoded data removed]",
      "text/plain": [
       "<Figure size 720x360 with 1 Axes>"
      ]
     },
     "metadata": {},
     "output_type": "display_data"
    },
    {
     "data": {
      "image/png": "[encoded data removed]",
      "text/plain": [
       "<Figure size 720x360 with 1 Axes>"
      ]
     },
     "metadata": {},
     "output_type": "display_data"
    },
    {
     "data": {
      "image/png": "[encoded data removed]",
      "text/plain": [
       "<Figure size 720x360 with 1 Axes>"
      ]
     },
     "metadata": {},
     "output_type": "display_data"
    }
   ],
   "source": [
    "# KNN 회귀 객체를 만듦\n",
    "knr = KNeighborsRegressor()\n",
    "# 5~45까지 x좌표를 생성\n",
    "x = np.arange(5,45).reshape(-1,1)\n",
    "\n",
    "# k-이웃값을 1, 5, 10으로 변경하면서 예측을하고 차트 그리기\n",
    "for n in [1, 3, 10, 42]:\n",
    "    knr.n_neighbors = n\n",
    "    knr.fit(X=new_train_input, y=train_target)\n",
    "    \n",
    "    # x에 대한 예측 도출\n",
    "    pred= knr.predict(X=x)\n",
    "\n",
    "    #훈련 세트와 예측 결과를 산점도에 표시\n",
    "    plt.figure(figsize=(10,5))\n",
    "    plt.scatter(x=new_train_input, y=train_target)\n",
    "    plt.plot(x, pred, color=\"orange\")\n",
    "    #plt.subplot()\n",
    "    title = f\"농어데이터 / 이웃값이 {n}일때 그래프\"\n",
    "    if n == 1:\n",
    "        title += \"(과대적합)\"\n",
    "    elif n == 10:\n",
    "        title += \"(과소적합)\"\n",
    "    plt.title(title)\n",
    "    plt.xlabel(\"길이(cm)\")\n",
    "    plt.ylabel(\"무게(g)\")\n",
    "    plt.show()"
   ]
  },
  {
   "cell_type": "markdown",
   "metadata": {},
   "source": [
    "좋지 않은 그래프들"
   ]
  },
  {
   "cell_type": "code",
   "execution_count": null,
   "metadata": {},
   "outputs": [],
   "source": []
  }
 ],
 "metadata": {
  "kernelspec": {
   "display_name": "Python 3.9.12 ('base')",
   "language": "python",
   "name": "python3"
  },
  "language_info": {
   "codemirror_mode": {
    "name": "ipython",
    "version": 3
   },
   "file_extension": ".py",
   "mimetype": "text/x-python",
   "name": "python",
   "nbconvert_exporter": "python",
   "pygments_lexer": "ipython3",
   "version": "3.9.12"
  },
  "orig_nbformat": 4,
  "vscode": {
   "interpreter": {
    "hash": "0406d19bda1fbea09f583b3d3e71462aea9da7cbc837a10ade34850525f7fa2f"
   }
  }
 },
 "nbformat": 4,
 "nbformat_minor": 2
}
