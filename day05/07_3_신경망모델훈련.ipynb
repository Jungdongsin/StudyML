{
 "cells": [
  {
   "cell_type": "markdown",
   "metadata": {},
   "source": [
    "### 사전 준비"
   ]
  },
  {
   "cell_type": "code",
   "execution_count": 2,
   "metadata": {},
   "outputs": [],
   "source": [
    "# 기본적인 패키지부터 추가\n",
    "import numpy as np\n",
    "import pandas as pd\n",
    "import scipy as super\n",
    "\n",
    "import matplotlib as mpl\n",
    "import matplotlib.pyplot as plt\n",
    "import seaborn as sns"
   ]
  },
  {
   "cell_type": "code",
   "execution_count": 3,
   "metadata": {},
   "outputs": [],
   "source": [
    "# 한글 설정/차트 마이너스 깨짐현상 해결 / seaborn 화면설정\n",
    "from matplotlib import rc\n",
    "import matplotlib.font_manager as fm\n",
    "\n",
    "plt.rc('font', family='Malgun Gothic')\n",
    "sns.set(font='Malgun Gothic', rc={'axes.unicode_minus':False}, style='darkgrid')"
   ]
  },
  {
   "cell_type": "markdown",
   "metadata": {},
   "source": [
    "#### 패션 MNIST 데이터\n",
    "\n",
    "데이터 로드"
   ]
  },
  {
   "cell_type": "code",
   "execution_count": 4,
   "metadata": {},
   "outputs": [],
   "source": [
    "from tensorflow import keras\n",
    "from tensorflow.keras.datasets.fashion_mnist import load_data\n",
    "from sklearn.model_selection import train_test_split"
   ]
  },
  {
   "cell_type": "code",
   "execution_count": 5,
   "metadata": {},
   "outputs": [],
   "source": [
    "(train_input, train_target), (test_input, test_target) = load_data()"
   ]
  },
  {
   "cell_type": "markdown",
   "metadata": {},
   "source": [
    "##### 정규화"
   ]
  },
  {
   "cell_type": "code",
   "execution_count": 6,
   "metadata": {},
   "outputs": [],
   "source": [
    "train_scaled = train_input / 255.0 # 0~1사이 실수값으로 변경"
   ]
  },
  {
   "cell_type": "code",
   "execution_count": 7,
   "metadata": {},
   "outputs": [],
   "source": [
    "train_scaled, val_scaled, train_target, val_target = train_test_split(train_scaled, train_target, test_size=0.2, random_state=42)"
   ]
  },
  {
   "cell_type": "code",
   "execution_count": 8,
   "metadata": {},
   "outputs": [
    {
     "name": "stdout",
     "output_type": "stream",
     "text": [
      "(48000, 28, 28) (48000,)\n",
      "(12000, 28, 28) (12000,)\n"
     ]
    }
   ],
   "source": [
    "print(train_scaled.shape, train_target.shape)\n",
    "print(val_scaled.shape, val_target.shape)"
   ]
  },
  {
   "cell_type": "markdown",
   "metadata": {},
   "source": [
    "##### 모델생성 함수"
   ]
  },
  {
   "cell_type": "code",
   "execution_count": 9,
   "metadata": {},
   "outputs": [],
   "source": [
    "def model_fn(a_layer=None):\n",
    "    model = keras.Sequential(name=\"model_fn_MakeModel\")\n",
    "    model.add(keras.layers.Flatten(input_shape=(28,28))) # 2차원 입력값을 1차원으로 변경\n",
    "    model.add(keras.layers.Dense(100, activation=\"relu\", name=\"hidden\"))\n",
    "\n",
    "    if a_layer:\n",
    "        model.add(a_layer)\n",
    "\n",
    "    model.add(keras.layers.Dense(10, activation=\"softmax\", name=\"output\"))\n",
    "\n",
    "    return model"
   ]
  },
  {
   "cell_type": "code",
   "execution_count": 10,
   "metadata": {},
   "outputs": [
    {
     "name": "stdout",
     "output_type": "stream",
     "text": [
      "Model: \"model_fn_MakeModel\"\n",
      "_________________________________________________________________\n",
      " Layer (type)                Output Shape              Param #   \n",
      "=================================================================\n",
      " flatten (Flatten)           (None, 784)               0         \n",
      "                                                                 \n",
      " hidden (Dense)              (None, 100)               78500     \n",
      "                                                                 \n",
      " hidden2 (Dense)             (None, 100)               10100     \n",
      "                                                                 \n",
      " output (Dense)              (None, 10)                1010      \n",
      "                                                                 \n",
      "=================================================================\n",
      "Total params: 89,610\n",
      "Trainable params: 89,610\n",
      "Non-trainable params: 0\n",
      "_________________________________________________________________\n"
     ]
    }
   ],
   "source": [
    "# 함수 사용 예\n",
    "model = model_fn(keras.layers.Dense(100, activation=\"relu\", name=\"hidden2\"))\n",
    "model.summary()"
   ]
  },
  {
   "cell_type": "markdown",
   "metadata": {},
   "source": [
    "#### 손실곡선, 정확도"
   ]
  },
  {
   "cell_type": "code",
   "execution_count": 11,
   "metadata": {},
   "outputs": [
    {
     "name": "stdout",
     "output_type": "stream",
     "text": [
      "Model: \"model_fn_MakeModel\"\n",
      "_________________________________________________________________\n",
      " Layer (type)                Output Shape              Param #   \n",
      "=================================================================\n",
      " flatten_1 (Flatten)         (None, 784)               0         \n",
      "                                                                 \n",
      " hidden (Dense)              (None, 100)               78500     \n",
      "                                                                 \n",
      " output (Dense)              (None, 10)                1010      \n",
      "                                                                 \n",
      "=================================================================\n",
      "Total params: 79,510\n",
      "Trainable params: 79,510\n",
      "Non-trainable params: 0\n",
      "_________________________________________________________________\n"
     ]
    }
   ],
   "source": [
    "model = model_fn()\n",
    "model.summary()"
   ]
  },
  {
   "cell_type": "code",
   "execution_count": 12,
   "metadata": {},
   "outputs": [
    {
     "name": "stdout",
     "output_type": "stream",
     "text": [
      "Epoch 1/5\n",
      "1500/1500 - 3s - loss: 0.5287 - accuracy: 0.8126 - 3s/epoch - 2ms/step\n",
      "Epoch 2/5\n",
      "1500/1500 - 2s - loss: 0.3924 - accuracy: 0.8592 - 2s/epoch - 2ms/step\n",
      "Epoch 3/5\n",
      "1500/1500 - 2s - loss: 0.3557 - accuracy: 0.8711 - 2s/epoch - 1ms/step\n",
      "Epoch 4/5\n",
      "1500/1500 - 2s - loss: 0.3351 - accuracy: 0.8788 - 2s/epoch - 2ms/step\n",
      "Epoch 5/5\n",
      "1500/1500 - 3s - loss: 0.3215 - accuracy: 0.8865 - 3s/epoch - 2ms/step\n"
     ]
    }
   ],
   "source": [
    "model.compile(loss=\"sparse_categorical_crossentropy\", metrics=\"accuracy\")\n",
    "history = model.fit(train_scaled, train_target, epochs=5, verbose=2)"
   ]
  },
  {
   "cell_type": "code",
   "execution_count": 13,
   "metadata": {},
   "outputs": [
    {
     "data": {
      "text/plain": [
       "{'loss': [0.5286791920661926,\n",
       "  0.39236459136009216,\n",
       "  0.3556971848011017,\n",
       "  0.3350791931152344,\n",
       "  0.32149848341941833],\n",
       " 'accuracy': [0.8126041889190674,\n",
       "  0.8592291474342346,\n",
       "  0.8710625171661377,\n",
       "  0.8787916898727417,\n",
       "  0.8865416646003723]}"
      ]
     },
     "execution_count": 13,
     "metadata": {},
     "output_type": "execute_result"
    }
   ],
   "source": [
    "history.history"
   ]
  },
  {
   "cell_type": "markdown",
   "metadata": {},
   "source": [
    "#### 손실곡선 차트"
   ]
  },
  {
   "cell_type": "code",
   "execution_count": 14,
   "metadata": {},
   "outputs": [
    {
     "data": {
      "image/png": "[encoded data removed]",
      "text/plain": [
       "<Figure size 720x360 with 1 Axes>"
      ]
     },
     "metadata": {
      "needs_background": "light"
     },
     "output_type": "display_data"
    }
   ],
   "source": [
    "plt.figure(figsize=(10,5))\n",
    "plt.plot(history.history[\"loss\"])\n",
    "plt.title(\"손실곡선\")\n",
    "plt.xlabel(\"ephochs(훈련횟수)\")\n",
    "plt.ylabel(\"손실값\")\n",
    "plt.show()"
   ]
  },
  {
   "cell_type": "markdown",
   "metadata": {},
   "source": [
    "#### 정확도 차트"
   ]
  },
  {
   "cell_type": "code",
   "execution_count": 15,
   "metadata": {},
   "outputs": [
    {
     "data": {
      "image/png": "[encoded data removed]",
      "text/plain": [
       "<Figure size 720x360 with 1 Axes>"
      ]
     },
     "metadata": {
      "needs_background": "light"
     },
     "output_type": "display_data"
    }
   ],
   "source": [
    "plt.figure(figsize=(10,5))\n",
    "plt.plot(history.history[\"accuracy\"])\n",
    "plt.title(\"정확도\")\n",
    "plt.xlabel(\"ephochs(훈련횟수)\")\n",
    "plt.ylabel(\"정확도\")\n",
    "plt.show()"
   ]
  },
  {
   "cell_type": "markdown",
   "metadata": {},
   "source": [
    "#### 에포크 20번 훈련"
   ]
  },
  {
   "cell_type": "code",
   "execution_count": 16,
   "metadata": {},
   "outputs": [
    {
     "name": "stdout",
     "output_type": "stream",
     "text": [
      "Epoch 1/20\n",
      "1500/1500 [==============================] - 4s 2ms/step - loss: 0.5348 - accuracy: 0.8100\n",
      "Epoch 2/20\n",
      "1500/1500 [==============================] - 4s 2ms/step - loss: 0.3975 - accuracy: 0.8566\n",
      "Epoch 3/20\n",
      "1500/1500 [==============================] - 3s 2ms/step - loss: 0.3595 - accuracy: 0.8705\n",
      "Epoch 4/20\n",
      "1500/1500 [==============================] - 3s 2ms/step - loss: 0.3383 - accuracy: 0.8778\n",
      "Epoch 5/20\n",
      "1500/1500 [==============================] - 3s 2ms/step - loss: 0.3209 - accuracy: 0.8842\n",
      "Epoch 6/20\n",
      "1500/1500 [==============================] - 4s 2ms/step - loss: 0.3121 - accuracy: 0.8902\n",
      "Epoch 7/20\n",
      "1500/1500 [==============================] - 3s 2ms/step - loss: 0.3017 - accuracy: 0.8924\n",
      "Epoch 8/20\n",
      "1500/1500 [==============================] - 5s 3ms/step - loss: 0.2912 - accuracy: 0.8972\n",
      "Epoch 9/20\n",
      "1500/1500 [==============================] - 4s 2ms/step - loss: 0.2857 - accuracy: 0.9001\n",
      "Epoch 10/20\n",
      "1500/1500 [==============================] - 3s 2ms/step - loss: 0.2764 - accuracy: 0.9013\n",
      "Epoch 11/20\n",
      "1500/1500 [==============================] - 4s 2ms/step - loss: 0.2701 - accuracy: 0.9040\n",
      "Epoch 12/20\n",
      "1500/1500 [==============================] - 4s 3ms/step - loss: 0.2676 - accuracy: 0.9061\n",
      "Epoch 13/20\n",
      "1500/1500 [==============================] - 3s 2ms/step - loss: 0.2588 - accuracy: 0.9110\n",
      "Epoch 14/20\n",
      "1500/1500 [==============================] - 4s 3ms/step - loss: 0.2556 - accuracy: 0.9114\n",
      "Epoch 15/20\n",
      "1500/1500 [==============================] - 3s 2ms/step - loss: 0.2500 - accuracy: 0.9124\n",
      "Epoch 16/20\n",
      "1500/1500 [==============================] - 4s 3ms/step - loss: 0.2476 - accuracy: 0.9158\n",
      "Epoch 17/20\n",
      "1500/1500 [==============================] - 4s 3ms/step - loss: 0.2397 - accuracy: 0.9169\n",
      "Epoch 18/20\n",
      "1500/1500 [==============================] - 4s 3ms/step - loss: 0.2381 - accuracy: 0.9184\n",
      "Epoch 19/20\n",
      "1500/1500 [==============================] - 4s 3ms/step - loss: 0.2343 - accuracy: 0.9199\n",
      "Epoch 20/20\n",
      "1500/1500 [==============================] - 4s 3ms/step - loss: 0.2314 - accuracy: 0.9210\n"
     ]
    }
   ],
   "source": [
    "model = model_fn()\n",
    "model.compile(loss=\"sparse_categorical_crossentropy\", metrics=\"accuracy\")\n",
    "history = model.fit(train_scaled, train_target, epochs=20)"
   ]
  },
  {
   "cell_type": "code",
   "execution_count": 17,
   "metadata": {},
   "outputs": [
    {
     "data": {
      "image/png": "[encoded data removed]",
      "text/plain": [
       "<Figure size 720x360 with 1 Axes>"
      ]
     },
     "metadata": {
      "needs_background": "light"
     },
     "output_type": "display_data"
    }
   ],
   "source": [
    "plt.figure(figsize=(10,5))\n",
    "plt.plot(history.history[\"loss\"])\n",
    "plt.plot(history.history[\"accuracy\"])\n",
    "#plt.title(\"정확도\")\n",
    "plt.xlabel(\"ephochs(훈련횟수)\")\n",
    "plt.ylabel(\"val\")\n",
    "plt.show()"
   ]
  },
  {
   "cell_type": "markdown",
   "metadata": {},
   "source": [
    "#### 검증손실\n",
    "\n",
    "훈련세트 훈련 -> 정확도 92%"
   ]
  },
  {
   "cell_type": "code",
   "execution_count": 18,
   "metadata": {},
   "outputs": [
    {
     "name": "stdout",
     "output_type": "stream",
     "text": [
      "Epoch 1/20\n",
      "1500/1500 [==============================] - 4s 3ms/step - loss: 0.5312 - accuracy: 0.8137 - val_loss: 0.4130 - val_accuracy: 0.8560\n",
      "Epoch 2/20\n",
      "1500/1500 [==============================] - 3s 2ms/step - loss: 0.3931 - accuracy: 0.8595 - val_loss: 0.4059 - val_accuracy: 0.8614\n",
      "Epoch 3/20\n",
      "1500/1500 [==============================] - 3s 2ms/step - loss: 0.3571 - accuracy: 0.8725 - val_loss: 0.3726 - val_accuracy: 0.8716\n",
      "Epoch 4/20\n",
      "1500/1500 [==============================] - 3s 2ms/step - loss: 0.3366 - accuracy: 0.8799 - val_loss: 0.3467 - val_accuracy: 0.8810\n",
      "Epoch 5/20\n",
      "1500/1500 [==============================] - 3s 2ms/step - loss: 0.3222 - accuracy: 0.8855 - val_loss: 0.3655 - val_accuracy: 0.8747\n",
      "Epoch 6/20\n",
      "1500/1500 [==============================] - 3s 2ms/step - loss: 0.3109 - accuracy: 0.8909 - val_loss: 0.3891 - val_accuracy: 0.8702\n",
      "Epoch 7/20\n",
      "1500/1500 [==============================] - 3s 2ms/step - loss: 0.3015 - accuracy: 0.8946 - val_loss: 0.3772 - val_accuracy: 0.8721\n",
      "Epoch 8/20\n",
      "1500/1500 [==============================] - 3s 2ms/step - loss: 0.2937 - accuracy: 0.8968 - val_loss: 0.3628 - val_accuracy: 0.8838\n",
      "Epoch 9/20\n",
      "1500/1500 [==============================] - 3s 2ms/step - loss: 0.2864 - accuracy: 0.8996 - val_loss: 0.3749 - val_accuracy: 0.8814\n",
      "Epoch 10/20\n",
      "1500/1500 [==============================] - 3s 2ms/step - loss: 0.2793 - accuracy: 0.9025 - val_loss: 0.3944 - val_accuracy: 0.8782\n",
      "Epoch 11/20\n",
      "1500/1500 [==============================] - 3s 2ms/step - loss: 0.2734 - accuracy: 0.9056 - val_loss: 0.3955 - val_accuracy: 0.8813\n",
      "Epoch 12/20\n",
      "1500/1500 [==============================] - 3s 2ms/step - loss: 0.2679 - accuracy: 0.9051 - val_loss: 0.4217 - val_accuracy: 0.8743\n",
      "Epoch 13/20\n",
      "1500/1500 [==============================] - 3s 2ms/step - loss: 0.2623 - accuracy: 0.9106 - val_loss: 0.4030 - val_accuracy: 0.8812\n",
      "Epoch 14/20\n",
      "1500/1500 [==============================] - 3s 2ms/step - loss: 0.2558 - accuracy: 0.9115 - val_loss: 0.4210 - val_accuracy: 0.8815\n",
      "Epoch 15/20\n",
      "1500/1500 [==============================] - 3s 2ms/step - loss: 0.2554 - accuracy: 0.9135 - val_loss: 0.4044 - val_accuracy: 0.8814\n",
      "Epoch 16/20\n",
      "1500/1500 [==============================] - 3s 2ms/step - loss: 0.2467 - accuracy: 0.9151 - val_loss: 0.4242 - val_accuracy: 0.8848\n",
      "Epoch 17/20\n",
      "1500/1500 [==============================] - 4s 2ms/step - loss: 0.2456 - accuracy: 0.9172 - val_loss: 0.4109 - val_accuracy: 0.8839\n",
      "Epoch 18/20\n",
      "1500/1500 [==============================] - 4s 2ms/step - loss: 0.2393 - accuracy: 0.9184 - val_loss: 0.4387 - val_accuracy: 0.8867\n",
      "Epoch 19/20\n",
      "1500/1500 [==============================] - 3s 2ms/step - loss: 0.2358 - accuracy: 0.9208 - val_loss: 0.4575 - val_accuracy: 0.8779\n",
      "Epoch 20/20\n",
      "1500/1500 [==============================] - 4s 2ms/step - loss: 0.2327 - accuracy: 0.9225 - val_loss: 0.4341 - val_accuracy: 0.8873\n"
     ]
    }
   ],
   "source": [
    "model = model_fn()\n",
    "model.compile(loss=\"sparse_categorical_crossentropy\", metrics=\"accuracy\")\n",
    "history = model.fit(train_scaled, train_target, epochs=20, validation_data=(val_scaled, val_target))"
   ]
  },
  {
   "cell_type": "markdown",
   "metadata": {},
   "source": [
    "훈련세트에서는 92%의 정확도였지만, 검증에서 0.88까지 정확도가 떨어짐\n",
    "⇒ 과대적합"
   ]
  },
  {
   "cell_type": "code",
   "execution_count": 19,
   "metadata": {},
   "outputs": [
    {
     "data": {
      "text/plain": [
       "dict_keys(['loss', 'accuracy', 'val_loss', 'val_accuracy'])"
      ]
     },
     "execution_count": 19,
     "metadata": {},
     "output_type": "execute_result"
    }
   ],
   "source": [
    "history.history.keys()"
   ]
  },
  {
   "cell_type": "markdown",
   "metadata": {},
   "source": [
    "훈련세트 / 검증세트 비교"
   ]
  },
  {
   "cell_type": "code",
   "execution_count": 20,
   "metadata": {},
   "outputs": [
    {
     "data": {
      "image/png": "[encoded data removed]",
      "text/plain": [
       "<Figure size 720x360 with 1 Axes>"
      ]
     },
     "metadata": {
      "needs_background": "light"
     },
     "output_type": "display_data"
    }
   ],
   "source": [
    "plt.figure(figsize=(10,5))\n",
    "plt.plot(history.history[\"loss\"])\n",
    "plt.plot(history.history[\"val_loss\"])\n",
    "plt.title(\"손실곡선\")\n",
    "plt.xlabel(\"ephochs(훈련횟수)\")\n",
    "plt.ylabel(\"loss\")\n",
    "plt.legend([\"훈련\",\"검증\"])\n",
    "plt.show()"
   ]
  },
  {
   "cell_type": "markdown",
   "metadata": {},
   "source": [
    "#### 드롭아웃"
   ]
  },
  {
   "cell_type": "code",
   "execution_count": 21,
   "metadata": {},
   "outputs": [
    {
     "name": "stdout",
     "output_type": "stream",
     "text": [
      "Model: \"model_fn_MakeModel\"\n",
      "_________________________________________________________________\n",
      " Layer (type)                Output Shape              Param #   \n",
      "=================================================================\n",
      " flatten_4 (Flatten)         (None, 784)               0         \n",
      "                                                                 \n",
      " hidden (Dense)              (None, 100)               78500     \n",
      "                                                                 \n",
      " dropout (Dropout)           (None, 100)               0         \n",
      "                                                                 \n",
      " output (Dense)              (None, 10)                1010      \n",
      "                                                                 \n",
      "=================================================================\n",
      "Total params: 79,510\n",
      "Trainable params: 79,510\n",
      "Non-trainable params: 0\n",
      "_________________________________________________________________\n"
     ]
    }
   ],
   "source": [
    "model = model_fn(keras.layers.Dropout(0.3))\n",
    "model.summary()"
   ]
  },
  {
   "cell_type": "code",
   "execution_count": 22,
   "metadata": {},
   "outputs": [
    {
     "name": "stdout",
     "output_type": "stream",
     "text": [
      "Epoch 1/20\n",
      "1500/1500 [==============================] - 4s 2ms/step - loss: 0.5815 - accuracy: 0.7960 - val_loss: 0.4379 - val_accuracy: 0.8447\n",
      "Epoch 2/20\n",
      "1500/1500 [==============================] - 3s 2ms/step - loss: 0.4470 - accuracy: 0.8419 - val_loss: 0.3824 - val_accuracy: 0.8642\n",
      "Epoch 3/20\n",
      "1500/1500 [==============================] - 3s 2ms/step - loss: 0.4192 - accuracy: 0.8534 - val_loss: 0.3890 - val_accuracy: 0.8682\n",
      "Epoch 4/20\n",
      "1500/1500 [==============================] - 3s 2ms/step - loss: 0.4051 - accuracy: 0.8593 - val_loss: 0.3825 - val_accuracy: 0.8664\n",
      "Epoch 5/20\n",
      "1500/1500 [==============================] - 3s 2ms/step - loss: 0.3981 - accuracy: 0.8636 - val_loss: 0.3865 - val_accuracy: 0.8670\n",
      "Epoch 6/20\n",
      "1500/1500 [==============================] - 4s 2ms/step - loss: 0.3960 - accuracy: 0.8655 - val_loss: 0.3813 - val_accuracy: 0.8688\n",
      "Epoch 7/20\n",
      "1500/1500 [==============================] - 4s 2ms/step - loss: 0.3884 - accuracy: 0.8692 - val_loss: 0.3807 - val_accuracy: 0.8727\n",
      "Epoch 8/20\n",
      "1500/1500 [==============================] - 4s 3ms/step - loss: 0.3843 - accuracy: 0.8711 - val_loss: 0.4072 - val_accuracy: 0.8767\n",
      "Epoch 9/20\n",
      "1500/1500 [==============================] - 4s 2ms/step - loss: 0.3838 - accuracy: 0.8705 - val_loss: 0.4060 - val_accuracy: 0.8734\n",
      "Epoch 10/20\n",
      "1500/1500 [==============================] - 4s 3ms/step - loss: 0.3832 - accuracy: 0.8736 - val_loss: 0.4054 - val_accuracy: 0.8711\n",
      "Epoch 11/20\n",
      "1500/1500 [==============================] - 4s 3ms/step - loss: 0.3822 - accuracy: 0.8756 - val_loss: 0.4389 - val_accuracy: 0.8702\n",
      "Epoch 12/20\n",
      "1500/1500 [==============================] - 4s 3ms/step - loss: 0.3773 - accuracy: 0.8763 - val_loss: 0.3965 - val_accuracy: 0.8771\n",
      "Epoch 13/20\n",
      "1500/1500 [==============================] - 5s 3ms/step - loss: 0.3779 - accuracy: 0.8759 - val_loss: 0.4527 - val_accuracy: 0.8767\n",
      "Epoch 14/20\n",
      "1500/1500 [==============================] - 4s 2ms/step - loss: 0.3766 - accuracy: 0.8776 - val_loss: 0.4306 - val_accuracy: 0.8743\n",
      "Epoch 15/20\n",
      "1500/1500 [==============================] - 3s 2ms/step - loss: 0.3711 - accuracy: 0.8787 - val_loss: 0.4336 - val_accuracy: 0.8783\n",
      "Epoch 16/20\n",
      "1500/1500 [==============================] - 4s 3ms/step - loss: 0.3751 - accuracy: 0.8803 - val_loss: 0.4607 - val_accuracy: 0.8739\n",
      "Epoch 17/20\n",
      "1500/1500 [==============================] - 3s 2ms/step - loss: 0.3717 - accuracy: 0.8794 - val_loss: 0.4720 - val_accuracy: 0.8745\n",
      "Epoch 18/20\n",
      "1500/1500 [==============================] - 3s 2ms/step - loss: 0.3750 - accuracy: 0.8811 - val_loss: 0.4688 - val_accuracy: 0.8755\n",
      "Epoch 19/20\n",
      "1500/1500 [==============================] - 4s 3ms/step - loss: 0.3754 - accuracy: 0.8819 - val_loss: 0.4488 - val_accuracy: 0.8788\n",
      "Epoch 20/20\n",
      "1500/1500 [==============================] - 4s 3ms/step - loss: 0.3702 - accuracy: 0.8833 - val_loss: 0.4579 - val_accuracy: 0.8820\n"
     ]
    }
   ],
   "source": [
    "model.compile(loss=\"sparse_categorical_crossentropy\", metrics=\"accuracy\")\n",
    "history = model.fit(train_scaled, train_target, epochs=20, validation_data=(val_scaled, val_target))"
   ]
  },
  {
   "cell_type": "code",
   "execution_count": 23,
   "metadata": {},
   "outputs": [
    {
     "data": {
      "image/png": "[encoded data removed]",
      "text/plain": [
       "<Figure size 720x360 with 1 Axes>"
      ]
     },
     "metadata": {
      "needs_background": "light"
     },
     "output_type": "display_data"
    }
   ],
   "source": [
    "plt.figure(figsize=(10,5))\n",
    "plt.plot(history.history[\"loss\"])\n",
    "plt.plot(history.history[\"val_loss\"])\n",
    "plt.title(\"손실곡선\")\n",
    "plt.xlabel(\"ephochs(훈련횟수)\")\n",
    "plt.ylabel(\"loss\")\n",
    "plt.legend([\"훈련\",\"검증\"])\n",
    "plt.show()"
   ]
  },
  {
   "cell_type": "code",
   "execution_count": 24,
   "metadata": {},
   "outputs": [
    {
     "name": "stdout",
     "output_type": "stream",
     "text": [
      "Epoch 1/20\n",
      "1500/1500 [==============================] - 4s 2ms/step - loss: 0.3573 - accuracy: 0.8758 - val_loss: 0.4074 - val_accuracy: 0.8765\n",
      "Epoch 2/20\n",
      "1500/1500 [==============================] - 3s 2ms/step - loss: 0.3472 - accuracy: 0.8762 - val_loss: 0.3922 - val_accuracy: 0.8700\n",
      "Epoch 3/20\n",
      "1500/1500 [==============================] - 3s 2ms/step - loss: 0.3319 - accuracy: 0.8798 - val_loss: 0.3876 - val_accuracy: 0.8758\n",
      "Epoch 4/20\n",
      "1500/1500 [==============================] - 3s 2ms/step - loss: 0.3285 - accuracy: 0.8802 - val_loss: 0.3814 - val_accuracy: 0.8797\n",
      "Epoch 5/20\n",
      "1500/1500 [==============================] - 3s 2ms/step - loss: 0.3141 - accuracy: 0.8851 - val_loss: 0.3835 - val_accuracy: 0.8767\n",
      "Epoch 6/20\n",
      "1500/1500 [==============================] - 3s 2ms/step - loss: 0.3078 - accuracy: 0.8867 - val_loss: 0.3821 - val_accuracy: 0.8786\n",
      "Epoch 7/20\n",
      "1500/1500 [==============================] - 3s 2ms/step - loss: 0.3008 - accuracy: 0.8897 - val_loss: 0.3853 - val_accuracy: 0.8802\n",
      "Epoch 8/20\n",
      "1500/1500 [==============================] - 3s 2ms/step - loss: 0.2968 - accuracy: 0.8917 - val_loss: 0.3697 - val_accuracy: 0.8798\n",
      "Epoch 9/20\n",
      "1500/1500 [==============================] - 3s 2ms/step - loss: 0.2969 - accuracy: 0.8893 - val_loss: 0.3683 - val_accuracy: 0.8799\n",
      "Epoch 10/20\n",
      "1500/1500 [==============================] - 3s 2ms/step - loss: 0.2914 - accuracy: 0.8907 - val_loss: 0.3589 - val_accuracy: 0.8862\n",
      "Epoch 11/20\n",
      "1500/1500 [==============================] - 3s 2ms/step - loss: 0.2832 - accuracy: 0.8926 - val_loss: 0.3675 - val_accuracy: 0.8806\n",
      "Epoch 12/20\n",
      "1500/1500 [==============================] - 4s 2ms/step - loss: 0.2825 - accuracy: 0.8941 - val_loss: 0.3731 - val_accuracy: 0.8824\n",
      "Epoch 13/20\n",
      "1500/1500 [==============================] - 4s 3ms/step - loss: 0.2845 - accuracy: 0.8937 - val_loss: 0.3683 - val_accuracy: 0.8829\n",
      "Epoch 14/20\n",
      "1500/1500 [==============================] - 4s 3ms/step - loss: 0.2788 - accuracy: 0.8937 - val_loss: 0.3709 - val_accuracy: 0.8823\n",
      "Epoch 15/20\n",
      "1500/1500 [==============================] - 3s 2ms/step - loss: 0.2724 - accuracy: 0.8979 - val_loss: 0.3704 - val_accuracy: 0.8848\n",
      "Epoch 16/20\n",
      "1500/1500 [==============================] - 3s 2ms/step - loss: 0.2684 - accuracy: 0.8996 - val_loss: 0.3759 - val_accuracy: 0.8855\n",
      "Epoch 17/20\n",
      "1500/1500 [==============================] - 4s 2ms/step - loss: 0.2667 - accuracy: 0.8981 - val_loss: 0.3759 - val_accuracy: 0.8850\n",
      "Epoch 18/20\n",
      "1500/1500 [==============================] - 3s 2ms/step - loss: 0.2671 - accuracy: 0.8993 - val_loss: 0.3652 - val_accuracy: 0.8865\n",
      "Epoch 19/20\n",
      "1500/1500 [==============================] - 3s 2ms/step - loss: 0.2578 - accuracy: 0.9006 - val_loss: 0.3658 - val_accuracy: 0.8821\n",
      "Epoch 20/20\n",
      "1500/1500 [==============================] - 3s 2ms/step - loss: 0.2634 - accuracy: 0.9005 - val_loss: 0.3572 - val_accuracy: 0.8861\n"
     ]
    }
   ],
   "source": [
    "# 옵티마이저(adam) 추가 후\n",
    "model.compile(loss=\"sparse_categorical_crossentropy\", metrics=\"accuracy\", optimizer=\"adam\")\n",
    "history = model.fit(train_scaled, train_target, epochs=20, validation_data=(val_scaled, val_target))"
   ]
  },
  {
   "cell_type": "code",
   "execution_count": 25,
   "metadata": {},
   "outputs": [
    {
     "data": {
      "image/png": "[encoded data removed]",
      "text/plain": [
       "<Figure size 720x360 with 1 Axes>"
      ]
     },
     "metadata": {
      "needs_background": "light"
     },
     "output_type": "display_data"
    }
   ],
   "source": [
    "plt.figure(figsize=(10,5))\n",
    "plt.plot(history.history[\"loss\"])\n",
    "plt.plot(history.history[\"val_loss\"])\n",
    "plt.title(\"손실곡선\")\n",
    "plt.xlabel(\"ephochs(훈련횟수)\")\n",
    "plt.ylabel(\"loss\")\n",
    "plt.legend([\"훈련\",\"검증\"])\n",
    "plt.show()"
   ]
  },
  {
   "cell_type": "markdown",
   "metadata": {},
   "source": [
    "#### 모델 저장/로드"
   ]
  },
  {
   "cell_type": "code",
   "execution_count": 26,
   "metadata": {},
   "outputs": [],
   "source": [
    "# 훈련된 가중치만 저장\n",
    "model.save_weights(\"./data/model-weights.h5\")"
   ]
  },
  {
   "cell_type": "code",
   "execution_count": 27,
   "metadata": {},
   "outputs": [],
   "source": [
    "# 훈련된 전체 데이터 저장\n",
    "model.save(\"./data/model.h5\")"
   ]
  },
  {
   "cell_type": "markdown",
   "metadata": {},
   "source": [
    "##### 가중치 모델 로드"
   ]
  },
  {
   "cell_type": "code",
   "execution_count": 28,
   "metadata": {},
   "outputs": [],
   "source": [
    "model = model_fn(keras.layers.Dropout(0.3))\n",
    "model.load_weights(\"./data/model-weights.h5\")"
   ]
  },
  {
   "cell_type": "markdown",
   "metadata": {},
   "source": [
    "##### 전체 모델 로드"
   ]
  },
  {
   "cell_type": "code",
   "execution_count": 29,
   "metadata": {},
   "outputs": [
    {
     "name": "stdout",
     "output_type": "stream",
     "text": [
      "375/375 [==============================] - 1s 1ms/step - loss: 0.3572 - accuracy: 0.8861\n"
     ]
    },
    {
     "data": {
      "text/plain": [
       "[0.3572167158126831, 0.8860833048820496]"
      ]
     },
     "execution_count": 29,
     "metadata": {},
     "output_type": "execute_result"
    }
   ],
   "source": [
    "model = keras.models.load_model(\"./data/model.h5\")\n",
    "model.evaluate(val_scaled, val_target)"
   ]
  },
  {
   "cell_type": "markdown",
   "metadata": {},
   "source": [
    "가중치만 저장하면 모델 기능 제약이 있다.\\\n",
    "모델 전체 데이터를 저장하면 모든 기능 수행 가능"
   ]
  },
  {
   "cell_type": "code",
   "execution_count": 30,
   "metadata": {},
   "outputs": [
    {
     "name": "stdout",
     "output_type": "stream",
     "text": [
      "375/375 [==============================] - 1s 2ms/step\n"
     ]
    },
    {
     "data": {
      "text/plain": [
       "array([[2.4865078e-26, 0.0000000e+00, 1.4578634e-38, ..., 2.7818071e-17,\n",
       "        1.0000000e+00, 3.3539985e-27],\n",
       "       [7.2423702e-14, 7.0322846e-38, 4.1326994e-21, ..., 2.2710034e-21,\n",
       "        1.0000000e+00, 3.6365398e-19],\n",
       "       [5.9059027e-27, 6.5658443e-30, 0.0000000e+00, ..., 9.9999940e-01,\n",
       "        3.8433256e-18, 1.8228170e-15],\n",
       "       ...,\n",
       "       [1.7351169e-08, 8.3766950e-31, 2.5946945e-14, ..., 5.7465955e-15,\n",
       "        1.0000000e+00, 1.9485947e-19],\n",
       "       [9.4276930e-13, 0.0000000e+00, 1.8401831e-19, ..., 3.6074035e-25,\n",
       "        1.0000000e+00, 9.4145456e-23],\n",
       "       [2.6666403e-02, 2.3360545e-12, 9.7089470e-10, ..., 2.6203303e-02,\n",
       "        4.8860873e-08, 9.4579971e-01]], dtype=float32)"
      ]
     },
     "execution_count": 30,
     "metadata": {},
     "output_type": "execute_result"
    }
   ],
   "source": [
    "model.predict(val_scaled)"
   ]
  },
  {
   "cell_type": "code",
   "execution_count": 31,
   "metadata": {},
   "outputs": [
    {
     "name": "stdout",
     "output_type": "stream",
     "text": [
      "375/375 [==============================] - 0s 1ms/step\n"
     ]
    },
    {
     "data": {
      "text/plain": [
       "0.8860833333333333"
      ]
     },
     "execution_count": 31,
     "metadata": {},
     "output_type": "execute_result"
    }
   ],
   "source": [
    "### 예측결과\n",
    "val_labels = np.argmax(model.predict(val_scaled), axis=-1)\n",
    "np.mean(val_labels == val_target)"
   ]
  },
  {
   "cell_type": "code",
   "execution_count": 32,
   "metadata": {},
   "outputs": [
    {
     "data": {
      "text/plain": [
       "array([8, 8, 7, ..., 8, 8, 9], dtype=int64)"
      ]
     },
     "execution_count": 32,
     "metadata": {},
     "output_type": "execute_result"
    }
   ],
   "source": [
    "val_labels"
   ]
  },
  {
   "cell_type": "markdown",
   "metadata": {},
   "source": [
    "#### 콜백(CallBack)"
   ]
  },
  {
   "cell_type": "code",
   "execution_count": 33,
   "metadata": {},
   "outputs": [
    {
     "name": "stdout",
     "output_type": "stream",
     "text": [
      "Epoch 1/20\n",
      "1500/1500 [==============================] - 3s 2ms/step - loss: 0.5985 - accuracy: 0.7900 - val_loss: 0.4388 - val_accuracy: 0.8413\n",
      "Epoch 2/20\n",
      "1500/1500 [==============================] - 3s 2ms/step - loss: 0.4422 - accuracy: 0.8409 - val_loss: 0.3939 - val_accuracy: 0.8520\n",
      "Epoch 3/20\n",
      "1500/1500 [==============================] - 3s 2ms/step - loss: 0.4053 - accuracy: 0.8530 - val_loss: 0.3677 - val_accuracy: 0.8688\n",
      "Epoch 4/20\n",
      "1500/1500 [==============================] - 3s 2ms/step - loss: 0.3834 - accuracy: 0.8612 - val_loss: 0.3526 - val_accuracy: 0.8706\n",
      "Epoch 5/20\n",
      "1500/1500 [==============================] - 3s 2ms/step - loss: 0.3663 - accuracy: 0.8672 - val_loss: 0.3524 - val_accuracy: 0.8712\n",
      "Epoch 6/20\n",
      "1500/1500 [==============================] - 3s 2ms/step - loss: 0.3548 - accuracy: 0.8704 - val_loss: 0.3531 - val_accuracy: 0.8703\n",
      "Epoch 7/20\n",
      "1500/1500 [==============================] - 3s 2ms/step - loss: 0.3485 - accuracy: 0.8715 - val_loss: 0.3528 - val_accuracy: 0.8740\n",
      "Epoch 8/20\n",
      "1500/1500 [==============================] - 3s 2ms/step - loss: 0.3379 - accuracy: 0.8753 - val_loss: 0.3385 - val_accuracy: 0.8792\n",
      "Epoch 9/20\n",
      "1500/1500 [==============================] - 3s 2ms/step - loss: 0.3311 - accuracy: 0.8785 - val_loss: 0.3510 - val_accuracy: 0.8743\n",
      "Epoch 10/20\n",
      "1500/1500 [==============================] - 3s 2ms/step - loss: 0.3240 - accuracy: 0.8797 - val_loss: 0.3287 - val_accuracy: 0.8834\n",
      "Epoch 11/20\n",
      "1500/1500 [==============================] - 4s 3ms/step - loss: 0.3165 - accuracy: 0.8833 - val_loss: 0.3176 - val_accuracy: 0.8840\n",
      "Epoch 12/20\n",
      "1500/1500 [==============================] - 3s 2ms/step - loss: 0.3133 - accuracy: 0.8834 - val_loss: 0.3332 - val_accuracy: 0.8808\n",
      "Epoch 13/20\n",
      "1500/1500 [==============================] - 3s 2ms/step - loss: 0.3027 - accuracy: 0.8863 - val_loss: 0.3290 - val_accuracy: 0.8833\n",
      "Epoch 14/20\n",
      "1500/1500 [==============================] - 4s 2ms/step - loss: 0.3016 - accuracy: 0.8873 - val_loss: 0.3260 - val_accuracy: 0.8814\n",
      "Epoch 15/20\n",
      "1500/1500 [==============================] - 4s 2ms/step - loss: 0.2954 - accuracy: 0.8906 - val_loss: 0.3190 - val_accuracy: 0.8858\n",
      "Epoch 16/20\n",
      "1500/1500 [==============================] - 3s 2ms/step - loss: 0.2943 - accuracy: 0.8903 - val_loss: 0.3192 - val_accuracy: 0.8878\n",
      "Epoch 17/20\n",
      "1500/1500 [==============================] - 3s 2ms/step - loss: 0.2858 - accuracy: 0.8923 - val_loss: 0.3209 - val_accuracy: 0.8848\n",
      "Epoch 18/20\n",
      "1500/1500 [==============================] - 3s 2ms/step - loss: 0.2843 - accuracy: 0.8924 - val_loss: 0.3251 - val_accuracy: 0.8829\n",
      "Epoch 19/20\n",
      "1500/1500 [==============================] - 3s 2ms/step - loss: 0.2820 - accuracy: 0.8946 - val_loss: 0.3357 - val_accuracy: 0.8779\n",
      "Epoch 20/20\n",
      "1500/1500 [==============================] - 4s 3ms/step - loss: 0.2766 - accuracy: 0.8952 - val_loss: 0.3234 - val_accuracy: 0.8830\n"
     ]
    },
    {
     "data": {
      "text/plain": [
       "<keras.callbacks.History at 0x2001d466c50>"
      ]
     },
     "execution_count": 33,
     "metadata": {},
     "output_type": "execute_result"
    }
   ],
   "source": [
    "model = model_fn(keras.layers.Dropout(0.3))\n",
    "model.compile(loss=\"sparse_categorical_crossentropy\", metrics=\"accuracy\", optimizer=\"adam\")\n",
    "\n",
    "#베스트 모델을 저장할 콜백\n",
    "checkpoint_cb = keras.callbacks.ModelCheckpoint(\"./data/best_model.h5\")\n",
    "model.fit(train_scaled, train_target, epochs=20, verbose=1, validation_data=(val_scaled, val_target), callbacks=[checkpoint_cb])"
   ]
  },
  {
   "cell_type": "code",
   "execution_count": 34,
   "metadata": {},
   "outputs": [
    {
     "name": "stdout",
     "output_type": "stream",
     "text": [
      "375/375 [==============================] - 1s 2ms/step - loss: 0.3234 - accuracy: 0.8830\n"
     ]
    },
    {
     "data": {
      "text/plain": [
       "[0.3233874440193176, 0.8830000162124634]"
      ]
     },
     "execution_count": 34,
     "metadata": {},
     "output_type": "execute_result"
    }
   ],
   "source": [
    "# 체크포인트 확인\n",
    "model = keras.models.load_model(\"./data/best_model.h5\")\n",
    "model.evaluate(val_scaled, val_target)"
   ]
  },
  {
   "cell_type": "markdown",
   "metadata": {},
   "source": [
    "#### 조기종료"
   ]
  },
  {
   "cell_type": "code",
   "execution_count": 61,
   "metadata": {},
   "outputs": [
    {
     "name": "stdout",
     "output_type": "stream",
     "text": [
      "Epoch 1/20\n",
      "1480/1500 [============================>.] - ETA: 0s - loss: 0.5913 - accuracy: 0.7921\n",
      "Epoch 1: val_loss improved from inf to 0.42675, saving model to ./data\\best_model.h5\n",
      "1500/1500 [==============================] - 3s 2ms/step - loss: 0.5899 - accuracy: 0.7925 - val_loss: 0.4268 - val_accuracy: 0.8487\n",
      "Epoch 2/20\n",
      "1499/1500 [============================>.] - ETA: 0s - loss: 0.4377 - accuracy: 0.8431\n",
      "Epoch 2: val_loss improved from 0.42675 to 0.39083, saving model to ./data\\best_model.h5\n",
      "1500/1500 [==============================] - 2s 2ms/step - loss: 0.4377 - accuracy: 0.8431 - val_loss: 0.3908 - val_accuracy: 0.8578\n",
      "Epoch 3/20\n",
      "1475/1500 [============================>.] - ETA: 0s - loss: 0.3992 - accuracy: 0.8551\n",
      "Epoch 3: val_loss improved from 0.39083 to 0.37236, saving model to ./data\\best_model.h5\n",
      "1500/1500 [==============================] - 2s 2ms/step - loss: 0.3983 - accuracy: 0.8554 - val_loss: 0.3724 - val_accuracy: 0.8618\n",
      "Epoch 4/20\n",
      "1498/1500 [============================>.] - ETA: 0s - loss: 0.3787 - accuracy: 0.8601\n",
      "Epoch 4: val_loss improved from 0.37236 to 0.36022, saving model to ./data\\best_model.h5\n",
      "1500/1500 [==============================] - 2s 2ms/step - loss: 0.3785 - accuracy: 0.8602 - val_loss: 0.3602 - val_accuracy: 0.8684\n",
      "Epoch 5/20\n",
      "1497/1500 [============================>.] - ETA: 0s - loss: 0.3627 - accuracy: 0.8680\n",
      "Epoch 5: val_loss improved from 0.36022 to 0.35315, saving model to ./data\\best_model.h5\n",
      "1500/1500 [==============================] - 2s 2ms/step - loss: 0.3628 - accuracy: 0.8679 - val_loss: 0.3531 - val_accuracy: 0.8694\n",
      "Epoch 6/20\n",
      "1483/1500 [============================>.] - ETA: 0s - loss: 0.3516 - accuracy: 0.8696\n",
      "Epoch 6: val_loss improved from 0.35315 to 0.33495, saving model to ./data\\best_model.h5\n",
      "1500/1500 [==============================] - 3s 2ms/step - loss: 0.3509 - accuracy: 0.8698 - val_loss: 0.3349 - val_accuracy: 0.8797\n",
      "Epoch 7/20\n",
      "1468/1500 [============================>.] - ETA: 0s - loss: 0.3396 - accuracy: 0.8738\n",
      "Epoch 7: val_loss did not improve from 0.33495\n",
      "1500/1500 [==============================] - 2s 2ms/step - loss: 0.3400 - accuracy: 0.8741 - val_loss: 0.3364 - val_accuracy: 0.8763\n",
      "Epoch 8/20\n",
      "1493/1500 [============================>.] - ETA: 0s - loss: 0.3314 - accuracy: 0.8777\n",
      "Epoch 8: val_loss improved from 0.33495 to 0.32739, saving model to ./data\\best_model.h5\n",
      "1500/1500 [==============================] - 3s 2ms/step - loss: 0.3315 - accuracy: 0.8775 - val_loss: 0.3274 - val_accuracy: 0.8800\n",
      "Epoch 9/20\n",
      "1477/1500 [============================>.] - ETA: 0s - loss: 0.3238 - accuracy: 0.8812\n",
      "Epoch 9: val_loss did not improve from 0.32739\n",
      "1500/1500 [==============================] - 3s 2ms/step - loss: 0.3247 - accuracy: 0.8810 - val_loss: 0.3336 - val_accuracy: 0.8740\n",
      "Epoch 10/20\n",
      "1494/1500 [============================>.] - ETA: 0s - loss: 0.3179 - accuracy: 0.8822\n",
      "Epoch 10: val_loss did not improve from 0.32739\n",
      "1500/1500 [==============================] - 2s 2ms/step - loss: 0.3184 - accuracy: 0.8821 - val_loss: 0.3300 - val_accuracy: 0.8819\n"
     ]
    }
   ],
   "source": [
    "model = model_fn(keras.layers.Dropout(0.3))\n",
    "model.compile(loss=\"sparse_categorical_crossentropy\", metrics=\"accuracy\", optimizer=\"adam\")\n",
    "\n",
    "#베스트 모델을 저장할 콜백\n",
    "#save_best_only=True 옵션이 지정돼야 가장 좋은 모델이 저장됨\n",
    "checkpoint_cb = keras.callbacks.ModelCheckpoint(\"./data/best_model.h5\",save_best_only=True, verbose=1)\n",
    "early_stopping_cb = keras.callbacks.EarlyStopping(patience=2, restore_best_weights=True)\n",
    "history = model.fit(train_scaled, train_target, epochs=20, verbose=1, validation_data=(val_scaled, val_target), callbacks=[checkpoint_cb, early_stopping_cb])"
   ]
  },
  {
   "cell_type": "code",
   "execution_count": 62,
   "metadata": {},
   "outputs": [
    {
     "name": "stdout",
     "output_type": "stream",
     "text": [
      "INFO:tensorflow:Assets written to: ./data/best_model2\\assets\n"
     ]
    }
   ],
   "source": [
    "model.save(\"./data/best_model2\")"
   ]
  },
  {
   "cell_type": "code",
   "execution_count": 63,
   "metadata": {},
   "outputs": [
    {
     "data": {
      "text/plain": [
       "9"
      ]
     },
     "execution_count": 63,
     "metadata": {},
     "output_type": "execute_result"
    }
   ],
   "source": [
    "# 어느 포크에서 조기종료했는지 확인\n",
    "early_stopping_cb.stopped_epoch # N번째에서 멈춤(드랍아웃)"
   ]
  },
  {
   "cell_type": "code",
   "execution_count": 64,
   "metadata": {},
   "outputs": [
    {
     "name": "stdout",
     "output_type": "stream",
     "text": [
      "375/375 [==============================] - 0s 1ms/step - loss: 0.3274 - accuracy: 0.8800\n"
     ]
    },
    {
     "data": {
      "text/plain": [
       "[0.32738810777664185, 0.8799999952316284]"
      ]
     },
     "execution_count": 64,
     "metadata": {},
     "output_type": "execute_result"
    }
   ],
   "source": [
    "model.evaluate(val_scaled, val_target)"
   ]
  },
  {
   "cell_type": "markdown",
   "metadata": {},
   "source": [
    "#### 조기종료된 모델 저장값 / 체크포인트로 저장된 모델 저장값 비교"
   ]
  },
  {
   "cell_type": "code",
   "execution_count": 65,
   "metadata": {},
   "outputs": [
    {
     "name": "stdout",
     "output_type": "stream",
     "text": [
      "375/375 [==============================] - 1s 1ms/step - loss: 0.3274 - accuracy: 0.8800\n"
     ]
    },
    {
     "data": {
      "text/plain": [
       "[0.32738810777664185, 0.8799999952316284]"
      ]
     },
     "execution_count": 65,
     "metadata": {},
     "output_type": "execute_result"
    }
   ],
   "source": [
    "model_cp = keras.models.load_model(\"./data/best_model2\")\n",
    "model_cp.evaluate(val_scaled, val_target)"
   ]
  },
  {
   "cell_type": "code",
   "execution_count": 71,
   "metadata": {},
   "outputs": [
    {
     "name": "stdout",
     "output_type": "stream",
     "text": [
      "375/375 [==============================] - 0s 1ms/step\n",
      "[8 8 7 4 8 4 1 0 4 5]\n"
     ]
    }
   ],
   "source": [
    "### 예측결과\n",
    "val_labels = np.argmax(model.predict(val_scaled), axis=-1)\n",
    "np.mean(val_labels == val_target)\n",
    "print(val_labels[:10])"
   ]
  },
  {
   "cell_type": "code",
   "execution_count": null,
   "metadata": {},
   "outputs": [],
   "source": []
  }
 ],
 "metadata": {
  "kernelspec": {
   "display_name": "Python 3.10.5 64-bit",
   "language": "python",
   "name": "python3"
  },
  "language_info": {
   "codemirror_mode": {
    "name": "ipython",
    "version": 3
   },
   "file_extension": ".py",
   "mimetype": "text/x-python",
   "name": "python",
   "nbconvert_exporter": "python",
   "pygments_lexer": "ipython3",
   "version": "3.10.5"
  },
  "orig_nbformat": 4,
  "vscode": {
   "interpreter": {
    "hash": "beedbe2faf2f7048d727558d0bc3221e7eba2a0b921cac4d4771b2feb8f74b30"
   }
  }
 },
 "nbformat": 4,
 "nbformat_minor": 2
}
