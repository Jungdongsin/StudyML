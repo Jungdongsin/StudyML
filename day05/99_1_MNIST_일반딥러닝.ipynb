{
 "cells": [
  {
   "cell_type": "markdown",
   "metadata": {},
   "source": [
    "#### 사전준비"
   ]
  },
  {
   "cell_type": "code",
   "execution_count": 1,
   "metadata": {},
   "outputs": [],
   "source": [
    "# 기본적인 패키지부터 추가\n",
    "import numpy as np\n",
    "import pandas as pd\n",
    "import scipy as super\n",
    "\n",
    "import matplotlib as mpl\n",
    "import matplotlib.pyplot as plt\n",
    "import seaborn as sns"
   ]
  },
  {
   "cell_type": "code",
   "execution_count": 2,
   "metadata": {},
   "outputs": [],
   "source": [
    "# 한글 설정/차트 마이너스 깨짐현상 해결 / seaborn 화면설정\n",
    "from matplotlib import rc\n",
    "import matplotlib.font_manager as fm\n",
    "\n",
    "plt.rc('font', family='Malgun Gothic')\n",
    "sns.set(font='Malgun Gothic', rc={'axes.unicode_minus':False}, style='darkgrid')"
   ]
  },
  {
   "cell_type": "markdown",
   "metadata": {},
   "source": [
    "#### MNIST 다운로드"
   ]
  },
  {
   "cell_type": "code",
   "execution_count": 3,
   "metadata": {},
   "outputs": [],
   "source": [
    "from tensorflow import keras\n",
    "from tensorflow.keras.datasets.mnist import load_data\n",
    "from sklearn.model_selection import train_test_split"
   ]
  },
  {
   "cell_type": "code",
   "execution_count": 4,
   "metadata": {},
   "outputs": [],
   "source": [
    "(train_input, train_target), (test_input, test_target) = load_data()"
   ]
  },
  {
   "cell_type": "code",
   "execution_count": 5,
   "metadata": {},
   "outputs": [
    {
     "name": "stdout",
     "output_type": "stream",
     "text": [
      "((60000, 28, 28), (60000,))\n",
      "((10000, 28, 28), (10000,))\n"
     ]
    }
   ],
   "source": [
    "print((train_input.shape, train_target.shape))\n",
    "print((test_input.shape, test_target.shape))"
   ]
  },
  {
   "cell_type": "code",
   "execution_count": 6,
   "metadata": {},
   "outputs": [],
   "source": [
    "# MNIST 이미지 표현\n",
    "def show_images(dataset, label, nrow, ncol):\n",
    "    # 캔버스 설정\n",
    "    fig, axes = plt.subplots(nrows=nrow, ncols=ncol, figsize=(2*ncol, 2*nrow))\n",
    "    ax =axes.ravel()\n",
    "\n",
    "    xlabels = label[0:nrow*ncol]\n",
    "\n",
    "    for i in range(nrow*ncol):\n",
    "        image = dataset[i]\n",
    "        ax[i].imshow(image, cmap=\"gray_r\")\n",
    "        ax[i].set_xticks([])\n",
    "        ax[i].set_yticks([])\n",
    "        ax[i].set_xlabel(xlabels[i])\n",
    "\n",
    "    plt.tight_layout()\n",
    "    plt.show()"
   ]
  },
  {
   "cell_type": "code",
   "execution_count": 7,
   "metadata": {},
   "outputs": [
    {
     "data": {
      "image/png": "[encoded data removed]",
      "text/plain": [
       "<Figure size 1440x288 with 20 Axes>"
      ]
     },
     "metadata": {},
     "output_type": "display_data"
    }
   ],
   "source": [
    "show_images(train_input, train_target, 2, 10)"
   ]
  },
  {
   "cell_type": "code",
   "execution_count": 8,
   "metadata": {},
   "outputs": [
    {
     "name": "stdout",
     "output_type": "stream",
     "text": [
      "Model: \"ANN\"\n",
      "_________________________________________________________________\n",
      " Layer (type)                Output Shape              Param #   \n",
      "=================================================================\n",
      " flatten (Flatten)           (None, 784)               0         \n",
      "                                                                 \n",
      " hidden (Dense)              (None, 100)               78500     \n",
      "                                                                 \n",
      " softmax (Dense)             (None, 10)                1010      \n",
      "                                                                 \n",
      "=================================================================\n",
      "Total params: 79,510\n",
      "Trainable params: 79,510\n",
      "Non-trainable params: 0\n",
      "_________________________________________________________________\n"
     ]
    }
   ],
   "source": [
    "model = keras.Sequential(name=\"ANN\")\n",
    "model.add(keras.layers.Flatten(input_shape=(28,28)))\n",
    "model.add(keras.layers.Dense(100, activation=\"relu\", name=\"hidden\"))\n",
    "model.add(keras.layers.Dense(10, activation=\"softmax\", name=\"softmax\"))\n",
    "model.summary()"
   ]
  },
  {
   "cell_type": "code",
   "execution_count": 9,
   "metadata": {},
   "outputs": [
    {
     "name": "stdout",
     "output_type": "stream",
     "text": [
      "Epoch 1/20\n",
      "590/600 [============================>.] - ETA: 0s - loss: 3.7675 - accuracy: 0.8473\n",
      "Epoch 1: val_loss improved from inf to 0.78123, saving model to ./data\\best_ann_model.h5\n",
      "600/600 [==============================] - 2s 2ms/step - loss: 3.7196 - accuracy: 0.8474 - val_loss: 0.7812 - val_accuracy: 0.8547\n",
      "Epoch 2/20\n",
      "591/600 [============================>.] - ETA: 0s - loss: 0.5359 - accuracy: 0.8893\n",
      "Epoch 2: val_loss improved from 0.78123 to 0.51241, saving model to ./data\\best_ann_model.h5\n",
      "600/600 [==============================] - 1s 2ms/step - loss: 0.5333 - accuracy: 0.8896 - val_loss: 0.5124 - val_accuracy: 0.8930\n",
      "Epoch 3/20\n",
      "580/600 [============================>.] - ETA: 0s - loss: 0.3331 - accuracy: 0.9172\n",
      "Epoch 3: val_loss improved from 0.51241 to 0.35501, saving model to ./data\\best_ann_model.h5\n",
      "600/600 [==============================] - 1s 2ms/step - loss: 0.3309 - accuracy: 0.9176 - val_loss: 0.3550 - val_accuracy: 0.9202\n",
      "Epoch 4/20\n",
      "600/600 [==============================] - ETA: 0s - loss: 0.2466 - accuracy: 0.9353\n",
      "Epoch 4: val_loss improved from 0.35501 to 0.34412, saving model to ./data\\best_ann_model.h5\n",
      "600/600 [==============================] - 1s 2ms/step - loss: 0.2466 - accuracy: 0.9353 - val_loss: 0.3441 - val_accuracy: 0.9289\n",
      "Epoch 5/20\n",
      "581/600 [============================>.] - ETA: 0s - loss: 0.2125 - accuracy: 0.9439\n",
      "Epoch 5: val_loss improved from 0.34412 to 0.30218, saving model to ./data\\best_ann_model.h5\n",
      "600/600 [==============================] - 1s 2ms/step - loss: 0.2130 - accuracy: 0.9440 - val_loss: 0.3022 - val_accuracy: 0.9327\n",
      "Epoch 6/20\n",
      "588/600 [============================>.] - ETA: 0s - loss: 0.1823 - accuracy: 0.9498\n",
      "Epoch 6: val_loss improved from 0.30218 to 0.28178, saving model to ./data\\best_ann_model.h5\n",
      "600/600 [==============================] - 2s 3ms/step - loss: 0.1822 - accuracy: 0.9500 - val_loss: 0.2818 - val_accuracy: 0.9339\n",
      "Epoch 7/20\n",
      "589/600 [============================>.] - ETA: 0s - loss: 0.1640 - accuracy: 0.9534\n",
      "Epoch 7: val_loss improved from 0.28178 to 0.26329, saving model to ./data\\best_ann_model.h5\n",
      "600/600 [==============================] - 2s 3ms/step - loss: 0.1646 - accuracy: 0.9533 - val_loss: 0.2633 - val_accuracy: 0.9395\n",
      "Epoch 8/20\n",
      "593/600 [============================>.] - ETA: 0s - loss: 0.1606 - accuracy: 0.9554\n",
      "Epoch 8: val_loss improved from 0.26329 to 0.25759, saving model to ./data\\best_ann_model.h5\n",
      "600/600 [==============================] - 2s 3ms/step - loss: 0.1604 - accuracy: 0.9554 - val_loss: 0.2576 - val_accuracy: 0.9420\n",
      "Epoch 9/20\n",
      "593/600 [============================>.] - ETA: 0s - loss: 0.1508 - accuracy: 0.9581\n",
      "Epoch 9: val_loss did not improve from 0.25759\n",
      "600/600 [==============================] - 2s 3ms/step - loss: 0.1508 - accuracy: 0.9581 - val_loss: 0.2780 - val_accuracy: 0.9465\n",
      "Epoch 10/20\n",
      "594/600 [============================>.] - ETA: 0s - loss: 0.1431 - accuracy: 0.9615\n",
      "Epoch 10: val_loss improved from 0.25759 to 0.24059, saving model to ./data\\best_ann_model.h5\n",
      "600/600 [==============================] - 2s 3ms/step - loss: 0.1428 - accuracy: 0.9615 - val_loss: 0.2406 - val_accuracy: 0.9498\n",
      "Epoch 11/20\n",
      "597/600 [============================>.] - ETA: 0s - loss: 0.1304 - accuracy: 0.9638\n",
      "Epoch 11: val_loss did not improve from 0.24059\n",
      "600/600 [==============================] - 2s 3ms/step - loss: 0.1304 - accuracy: 0.9638 - val_loss: 0.2587 - val_accuracy: 0.9449\n",
      "Epoch 12/20\n",
      "591/600 [============================>.] - ETA: 0s - loss: 0.1258 - accuracy: 0.9650\n",
      "Epoch 12: val_loss improved from 0.24059 to 0.23001, saving model to ./data\\best_ann_model.h5\n",
      "600/600 [==============================] - 2s 3ms/step - loss: 0.1254 - accuracy: 0.9651 - val_loss: 0.2300 - val_accuracy: 0.9523\n",
      "Epoch 13/20\n",
      "596/600 [============================>.] - ETA: 0s - loss: 0.1229 - accuracy: 0.9661\n",
      "Epoch 13: val_loss improved from 0.23001 to 0.22840, saving model to ./data\\best_ann_model.h5\n",
      "600/600 [==============================] - 2s 4ms/step - loss: 0.1229 - accuracy: 0.9661 - val_loss: 0.2284 - val_accuracy: 0.9535\n",
      "Epoch 14/20\n",
      "591/600 [============================>.] - ETA: 0s - loss: 0.1170 - accuracy: 0.9671\n",
      "Epoch 14: val_loss did not improve from 0.22840\n",
      "600/600 [==============================] - 2s 3ms/step - loss: 0.1170 - accuracy: 0.9671 - val_loss: 0.2647 - val_accuracy: 0.9508\n",
      "Epoch 15/20\n",
      "586/600 [============================>.] - ETA: 0s - loss: 0.1140 - accuracy: 0.9686\n",
      "Epoch 15: val_loss did not improve from 0.22840\n",
      "600/600 [==============================] - 2s 3ms/step - loss: 0.1144 - accuracy: 0.9685 - val_loss: 0.2394 - val_accuracy: 0.9519\n"
     ]
    }
   ],
   "source": [
    "# 255.0 나눠서 0~1로 값 축소하는 일은 하지않음\n",
    "model.compile(optimizer=\"adam\", loss=\"sparse_categorical_crossentropy\", metrics=\"accuracy\")\n",
    "checkpoint_cb = keras.callbacks.ModelCheckpoint(\"./data/best_ann_model.h5\",save_best_only=True, verbose=1)\n",
    "early_stopping_cb = keras.callbacks.EarlyStopping(patience=2, restore_best_weights=True)\n",
    "history = model.fit(train_input, train_target, epochs=20, verbose=1, validation_data=(test_input, test_target), batch_size=100, callbacks=[checkpoint_cb, early_stopping_cb])"
   ]
  },
  {
   "cell_type": "code",
   "execution_count": 10,
   "metadata": {},
   "outputs": [
    {
     "name": "stdout",
     "output_type": "stream",
     "text": [
      "Model: \"ANN\"\n",
      "_________________________________________________________________\n",
      " Layer (type)                Output Shape              Param #   \n",
      "=================================================================\n",
      " flatten_1 (Flatten)         (None, 784)               0         \n",
      "                                                                 \n",
      " hidden (Dense)              (None, 100)               78500     \n",
      "                                                                 \n",
      " dropout (Dropout)           (None, 100)               0         \n",
      "                                                                 \n",
      " softmax (Dense)             (None, 10)                1010      \n",
      "                                                                 \n",
      "=================================================================\n",
      "Total params: 79,510\n",
      "Trainable params: 79,510\n",
      "Non-trainable params: 0\n",
      "_________________________________________________________________\n"
     ]
    }
   ],
   "source": [
    "#드롭아웃 추가\n",
    "model = keras.Sequential(name=\"ANN\")\n",
    "model.add(keras.layers.Flatten(input_shape=(28,28)))\n",
    "model.add(keras.layers.Dense(100, activation=\"relu\", name=\"hidden\"))\n",
    "model.add(keras.layers.Dropout(0.3))\n",
    "model.add(keras.layers.Dense(10, activation=\"softmax\", name=\"softmax\"))\n",
    "model.summary()"
   ]
  },
  {
   "cell_type": "code",
   "execution_count": 11,
   "metadata": {},
   "outputs": [
    {
     "name": "stdout",
     "output_type": "stream",
     "text": [
      "Epoch 1/20\n",
      "596/600 [============================>.] - ETA: 0s - loss: 4.4625 - accuracy: 0.6526\n",
      "Epoch 1: val_loss improved from inf to 0.77156, saving model to ./data\\best_ann_model.h5\n",
      "600/600 [==============================] - 2s 3ms/step - loss: 4.4392 - accuracy: 0.6533 - val_loss: 0.7716 - val_accuracy: 0.8292\n",
      "Epoch 2/20\n",
      "597/600 [============================>.] - ETA: 0s - loss: 0.8678 - accuracy: 0.7616\n",
      "Epoch 2: val_loss improved from 0.77156 to 0.52642, saving model to ./data\\best_ann_model.h5\n",
      "600/600 [==============================] - 2s 3ms/step - loss: 0.8674 - accuracy: 0.7617 - val_loss: 0.5264 - val_accuracy: 0.8858\n",
      "Epoch 3/20\n",
      "599/600 [============================>.] - ETA: 0s - loss: 0.6692 - accuracy: 0.8154\n",
      "Epoch 3: val_loss improved from 0.52642 to 0.44039, saving model to ./data\\best_ann_model.h5\n",
      "600/600 [==============================] - 2s 3ms/step - loss: 0.6688 - accuracy: 0.8155 - val_loss: 0.4404 - val_accuracy: 0.8990\n",
      "Epoch 4/20\n",
      "589/600 [============================>.] - ETA: 0s - loss: 0.5455 - accuracy: 0.8447\n",
      "Epoch 4: val_loss improved from 0.44039 to 0.40027, saving model to ./data\\best_ann_model.h5\n",
      "600/600 [==============================] - 1s 2ms/step - loss: 0.5449 - accuracy: 0.8445 - val_loss: 0.4003 - val_accuracy: 0.9161\n",
      "Epoch 5/20\n",
      "591/600 [============================>.] - ETA: 0s - loss: 0.4933 - accuracy: 0.8610\n",
      "Epoch 5: val_loss improved from 0.40027 to 0.33853, saving model to ./data\\best_ann_model.h5\n",
      "600/600 [==============================] - 2s 3ms/step - loss: 0.4927 - accuracy: 0.8613 - val_loss: 0.3385 - val_accuracy: 0.9256\n",
      "Epoch 6/20\n",
      "574/600 [===========================>..] - ETA: 0s - loss: 0.4472 - accuracy: 0.8726\n",
      "Epoch 6: val_loss improved from 0.33853 to 0.30418, saving model to ./data\\best_ann_model.h5\n",
      "600/600 [==============================] - 1s 2ms/step - loss: 0.4490 - accuracy: 0.8723 - val_loss: 0.3042 - val_accuracy: 0.9296\n",
      "Epoch 7/20\n",
      "585/600 [============================>.] - ETA: 0s - loss: 0.4102 - accuracy: 0.8821\n",
      "Epoch 7: val_loss improved from 0.30418 to 0.27666, saving model to ./data\\best_ann_model.h5\n",
      "600/600 [==============================] - 1s 2ms/step - loss: 0.4098 - accuracy: 0.8823 - val_loss: 0.2767 - val_accuracy: 0.9368\n",
      "Epoch 8/20\n",
      "600/600 [==============================] - ETA: 0s - loss: 0.3768 - accuracy: 0.8924\n",
      "Epoch 8: val_loss improved from 0.27666 to 0.25461, saving model to ./data\\best_ann_model.h5\n",
      "600/600 [==============================] - 1s 2ms/step - loss: 0.3768 - accuracy: 0.8924 - val_loss: 0.2546 - val_accuracy: 0.9406\n",
      "Epoch 9/20\n",
      "580/600 [============================>.] - ETA: 0s - loss: 0.3600 - accuracy: 0.8952\n",
      "Epoch 9: val_loss did not improve from 0.25461\n",
      "600/600 [==============================] - 1s 2ms/step - loss: 0.3583 - accuracy: 0.8956 - val_loss: 0.2580 - val_accuracy: 0.9412\n",
      "Epoch 10/20\n",
      "593/600 [============================>.] - ETA: 0s - loss: 0.3441 - accuracy: 0.9010\n",
      "Epoch 10: val_loss did not improve from 0.25461\n",
      "600/600 [==============================] - 1s 2ms/step - loss: 0.3439 - accuracy: 0.9011 - val_loss: 0.2680 - val_accuracy: 0.9443\n"
     ]
    }
   ],
   "source": [
    "# 255.0 나눠서 0~1로 값 축소하는 일은 하지않음\n",
    "model.compile(optimizer=\"adam\", loss=\"sparse_categorical_crossentropy\", metrics=\"accuracy\")\n",
    "checkpoint_cb = keras.callbacks.ModelCheckpoint(\"./data/best_ann_model.h5\",save_best_only=True, verbose=1)\n",
    "early_stopping_cb = keras.callbacks.EarlyStopping(patience=2, restore_best_weights=True)\n",
    "history = model.fit(train_input, train_target, epochs=20, verbose=1, validation_data=(test_input, test_target), batch_size=100, callbacks=[checkpoint_cb, early_stopping_cb])"
   ]
  },
  {
   "cell_type": "code",
   "execution_count": 12,
   "metadata": {},
   "outputs": [
    {
     "data": {
      "image/png": "[encoded data removed]",
      "text/plain": [
       "<Figure size 720x360 with 1 Axes>"
      ]
     },
     "metadata": {
      "needs_background": "light"
     },
     "output_type": "display_data"
    }
   ],
   "source": [
    "plot_target = [\"loss\", \"val_loss\"]\n",
    "plt.figure(figsize=(10,5))\n",
    "\n",
    "for each in plot_target:\n",
    "    plt.plot(history.history[each], label=each)\n",
    "plt.legend()\n",
    "plt.show()"
   ]
  },
  {
   "cell_type": "code",
   "execution_count": 13,
   "metadata": {},
   "outputs": [
    {
     "data": {
      "image/png": "[encoded data removed]",
      "text/plain": [
       "<Figure size 720x360 with 1 Axes>"
      ]
     },
     "metadata": {
      "needs_background": "light"
     },
     "output_type": "display_data"
    }
   ],
   "source": [
    "plot_target = [\"accuracy\", \"val_accuracy\"]\n",
    "plt.figure(figsize=(10,5))\n",
    "\n",
    "for each in plot_target:\n",
    "    plt.plot(history.history[each], label=each)\n",
    "plt.legend()\n",
    "plt.show()"
   ]
  },
  {
   "cell_type": "code",
   "execution_count": 14,
   "metadata": {},
   "outputs": [
    {
     "name": "stdout",
     "output_type": "stream",
     "text": [
      "313/313 [==============================] - 0s 1ms/step - loss: 0.2546 - accuracy: 0.9406\n"
     ]
    },
    {
     "data": {
      "text/plain": [
       "[0.2546059191226959, 0.9405999779701233]"
      ]
     },
     "execution_count": 14,
     "metadata": {},
     "output_type": "execute_result"
    }
   ],
   "source": [
    "model.evaluate(test_input, test_target)"
   ]
  },
  {
   "cell_type": "code",
   "execution_count": 15,
   "metadata": {},
   "outputs": [
    {
     "name": "stdout",
     "output_type": "stream",
     "text": [
      "313/313 [==============================] - 0s 780us/step\n"
     ]
    }
   ],
   "source": [
    "# 예측된 결과값 리스트\n",
    "pred_result = model.predict(test_input)"
   ]
  },
  {
   "cell_type": "code",
   "execution_count": 16,
   "metadata": {},
   "outputs": [
    {
     "name": "stdout",
     "output_type": "stream",
     "text": [
      "[7 2 1 0 4 1 4 9 5 9]\n",
      "(10000,)\n"
     ]
    }
   ],
   "source": [
    "pred_labels = np.argmax(pred_result, axis=-1)\n",
    "print(pred_labels[:10])\n",
    "print(pred_labels.shape)"
   ]
  },
  {
   "cell_type": "markdown",
   "metadata": {},
   "source": [
    "#### 예측 실패한 이미지 파악"
   ]
  },
  {
   "cell_type": "code",
   "execution_count": 17,
   "metadata": {},
   "outputs": [
    {
     "data": {
      "text/plain": [
       "594"
      ]
     },
     "execution_count": 17,
     "metadata": {},
     "output_type": "execute_result"
    }
   ],
   "source": [
    "wrong_result = []\n",
    "\n",
    "for i in range(0, len(test_target)):\n",
    "    if pred_labels[i] != test_target[i]:\n",
    "        wrong_result.append(i)\n",
    "\n",
    "len(wrong_result)"
   ]
  },
  {
   "cell_type": "code",
   "execution_count": 18,
   "metadata": {},
   "outputs": [
    {
     "data": {
      "text/plain": [
       "16"
      ]
     },
     "execution_count": 18,
     "metadata": {},
     "output_type": "execute_result"
    }
   ],
   "source": [
    "import random\n",
    "\n",
    "samples = random.choices(population=wrong_result, k=16)\n",
    "len(samples)"
   ]
  },
  {
   "cell_type": "code",
   "execution_count": 19,
   "metadata": {},
   "outputs": [
    {
     "data": {
      "image/png": "[encoded data removed]",
      "text/plain": [
       "<Figure size 1008x864 with 16 Axes>"
      ]
     },
     "metadata": {
      "needs_background": "light"
     },
     "output_type": "display_data"
    }
   ],
   "source": [
    "# 예측 실패한 이미지 확인\n",
    "plt.figure(figsize=(14,12))\n",
    "\n",
    "for idx, n in enumerate(samples):\n",
    "    plt.subplot(4,4,idx+1)\n",
    "    plt.imshow(test_input[n].reshape(28,28), cmap=\"gray_r\", interpolation=\"nearest\")\n",
    "    plt.title(f\"label={test_target[n]} / predict={pred_labels[n]}\")\n",
    "    plt.axis(\"off\")\n",
    "plt.show()"
   ]
  }
 ],
 "metadata": {
  "kernelspec": {
   "display_name": "Python 3.10.5 64-bit",
   "language": "python",
   "name": "python3"
  },
  "language_info": {
   "codemirror_mode": {
    "name": "ipython",
    "version": 3
   },
   "file_extension": ".py",
   "mimetype": "text/x-python",
   "name": "python",
   "nbconvert_exporter": "python",
   "pygments_lexer": "ipython3",
   "version": "3.10.5"
  },
  "orig_nbformat": 4,
  "vscode": {
   "interpreter": {
    "hash": "beedbe2faf2f7048d727558d0bc3221e7eba2a0b921cac4d4771b2feb8f74b30"
   }
  }
 },
 "nbformat": 4,
 "nbformat_minor": 2
}
