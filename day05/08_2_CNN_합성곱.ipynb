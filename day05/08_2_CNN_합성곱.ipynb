{
 "cells": [
  {
   "cell_type": "code",
   "execution_count": 1,
   "metadata": {},
   "outputs": [],
   "source": [
    "# 기본적인 패키지부터 추가\n",
    "import numpy as np\n",
    "import pandas as pd\n",
    "import scipy as super\n",
    "\n",
    "import matplotlib as mpl\n",
    "import matplotlib.pyplot as plt\n",
    "import seaborn as sns"
   ]
  },
  {
   "cell_type": "code",
   "execution_count": 2,
   "metadata": {},
   "outputs": [],
   "source": [
    "# 한글 설정/차트 마이너스 깨짐현상 해결 / seaborn 화면설정\n",
    "from matplotlib import rc\n",
    "import matplotlib.font_manager as fm\n",
    "\n",
    "plt.rc('font', family='Malgun Gothic')\n",
    "sns.set(font='Malgun Gothic', rc={'axes.unicode_minus':False}, style='darkgrid')"
   ]
  },
  {
   "cell_type": "markdown",
   "metadata": {},
   "source": [
    "### 합성곱신경망 이미지 분류"
   ]
  },
  {
   "cell_type": "code",
   "execution_count": 3,
   "metadata": {},
   "outputs": [],
   "source": [
    "from tensorflow import keras\n",
    "from tensorflow.keras.datasets.fashion_mnist import load_data\n",
    "from sklearn.model_selection import train_test_split"
   ]
  },
  {
   "cell_type": "code",
   "execution_count": 4,
   "metadata": {},
   "outputs": [],
   "source": [
    "(train_input, train_target), (test_input, test_target) = load_data()"
   ]
  },
  {
   "cell_type": "code",
   "execution_count": 5,
   "metadata": {},
   "outputs": [
    {
     "data": {
      "text/plain": [
       "(60000, 28, 28, 1)"
      ]
     },
     "execution_count": 5,
     "metadata": {},
     "output_type": "execute_result"
    }
   ],
   "source": [
    "train_scaled = train_input.reshape(-1, 28, 28, 1) / 255.0\n",
    "train_scaled.shape"
   ]
  },
  {
   "cell_type": "code",
   "execution_count": 6,
   "metadata": {},
   "outputs": [],
   "source": [
    "train_scaled, val_scaled, train_target, val_target = train_test_split(train_scaled, train_target, test_size=0.2, random_state=42)"
   ]
  },
  {
   "cell_type": "code",
   "execution_count": 8,
   "metadata": {},
   "outputs": [
    {
     "name": "stdout",
     "output_type": "stream",
     "text": [
      "(48000, 28, 28, 1) (48000,)\n",
      "(12000, 28, 28, 1) (12000,)\n"
     ]
    }
   ],
   "source": [
    "print(train_scaled.shape, train_target.shape)\n",
    "print(val_scaled.shape, val_target.shape)"
   ]
  },
  {
   "cell_type": "markdown",
   "metadata": {},
   "source": [
    "#### 합성곱 신경망 생성"
   ]
  },
  {
   "cell_type": "code",
   "execution_count": 12,
   "metadata": {},
   "outputs": [],
   "source": [
    "model = keras.Sequential()\n",
    "\n",
    "model.add(keras.layers.Conv2D(32, kernel_size=3, activation=\"relu\", padding=\"same\", input_shape=(28,28,1)))\n",
    "model.add(keras.layers.MaxPooling2D(2)) # 14X14 특성맵 = 32 개 생성\n",
    "model.add(keras.layers.Conv2D(64, kernel_size=3, activation=\"relu\", padding=\"same\"))\n",
    "model.add(keras.layers.MaxPooling2D(2)) # 7X7 특성맵 = 64 개 생성"
   ]
  },
  {
   "cell_type": "code",
   "execution_count": 14,
   "metadata": {},
   "outputs": [],
   "source": [
    "model.add(keras.layers.Flatten()) # 7X7X64 = 3136\n",
    "model.add(keras.layers.Dense(100, activation=\"relu\"))\n",
    "model.add(keras.layers.Dropout(0.4)) # 60개(60%) 노드만 통과해서 사용\n",
    "model.add(keras.layers.Dense(10, activation=\"softmax\"))"
   ]
  },
  {
   "cell_type": "code",
   "execution_count": 15,
   "metadata": {},
   "outputs": [
    {
     "name": "stdout",
     "output_type": "stream",
     "text": [
      "Model: \"sequential_2\"\n",
      "_________________________________________________________________\n",
      " Layer (type)                Output Shape              Param #   \n",
      "=================================================================\n",
      " conv2d_2 (Conv2D)           (None, 28, 28, 32)        320       \n",
      "                                                                 \n",
      " max_pooling2d_2 (MaxPooling  (None, 14, 14, 32)       0         \n",
      " 2D)                                                             \n",
      "                                                                 \n",
      " conv2d_3 (Conv2D)           (None, 14, 14, 64)        18496     \n",
      "                                                                 \n",
      " max_pooling2d_3 (MaxPooling  (None, 7, 7, 64)         0         \n",
      " 2D)                                                             \n",
      "                                                                 \n",
      " flatten (Flatten)           (None, 3136)              0         \n",
      "                                                                 \n",
      " dense (Dense)               (None, 100)               313700    \n",
      "                                                                 \n",
      " dropout (Dropout)           (None, 100)               0         \n",
      "                                                                 \n",
      " dense_1 (Dense)             (None, 10)                1010      \n",
      "                                                                 \n",
      "=================================================================\n",
      "Total params: 333,526\n",
      "Trainable params: 333,526\n",
      "Non-trainable params: 0\n",
      "_________________________________________________________________\n"
     ]
    }
   ],
   "source": [
    "model.summary()"
   ]
  },
  {
   "cell_type": "code",
   "execution_count": null,
   "metadata": {},
   "outputs": [],
   "source": [
    "keras.utils.plot_model(model)"
   ]
  },
  {
   "cell_type": "markdown",
   "metadata": {},
   "source": [
    "#### 모델 컴파일 훈련"
   ]
  },
  {
   "cell_type": "code",
   "execution_count": 19,
   "metadata": {},
   "outputs": [
    {
     "name": "stdout",
     "output_type": "stream",
     "text": [
      "Epoch 1/20\n",
      "1498/1500 [============================>.] - ETA: 0s - loss: 0.5205 - accuracy: 0.8123\n",
      "Epoch 1: val_loss improved from inf to 0.31751, saving model to ./data\\best_cnn_model.h5\n",
      "1500/1500 [==============================] - 27s 18ms/step - loss: 0.5201 - accuracy: 0.8124 - val_loss: 0.3175 - val_accuracy: 0.8812\n",
      "Epoch 2/20\n",
      "1498/1500 [============================>.] - ETA: 0s - loss: 0.3458 - accuracy: 0.8744\n",
      "Epoch 2: val_loss improved from 0.31751 to 0.28160, saving model to ./data\\best_cnn_model.h5\n",
      "1500/1500 [==============================] - 30s 20ms/step - loss: 0.3457 - accuracy: 0.8744 - val_loss: 0.2816 - val_accuracy: 0.8963\n",
      "Epoch 3/20\n",
      "1499/1500 [============================>.] - ETA: 0s - loss: 0.2996 - accuracy: 0.8927\n",
      "Epoch 3: val_loss improved from 0.28160 to 0.27324, saving model to ./data\\best_cnn_model.h5\n",
      "1500/1500 [==============================] - 34s 23ms/step - loss: 0.2995 - accuracy: 0.8927 - val_loss: 0.2732 - val_accuracy: 0.8974\n",
      "Epoch 4/20\n",
      "1500/1500 [==============================] - ETA: 0s - loss: 0.2666 - accuracy: 0.9019\n",
      "Epoch 4: val_loss improved from 0.27324 to 0.24030, saving model to ./data\\best_cnn_model.h5\n",
      "1500/1500 [==============================] - 35s 23ms/step - loss: 0.2666 - accuracy: 0.9019 - val_loss: 0.2403 - val_accuracy: 0.9101\n",
      "Epoch 5/20\n",
      "1500/1500 [==============================] - ETA: 0s - loss: 0.2417 - accuracy: 0.9121\n",
      "Epoch 5: val_loss improved from 0.24030 to 0.23916, saving model to ./data\\best_cnn_model.h5\n",
      "1500/1500 [==============================] - 34s 23ms/step - loss: 0.2417 - accuracy: 0.9121 - val_loss: 0.2392 - val_accuracy: 0.9100\n",
      "Epoch 6/20\n",
      "1500/1500 [==============================] - ETA: 0s - loss: 0.2229 - accuracy: 0.9179\n",
      "Epoch 6: val_loss did not improve from 0.23916\n",
      "1500/1500 [==============================] - 33s 22ms/step - loss: 0.2229 - accuracy: 0.9179 - val_loss: 0.2412 - val_accuracy: 0.9095\n",
      "Epoch 7/20\n",
      "1499/1500 [============================>.] - ETA: 0s - loss: 0.2044 - accuracy: 0.9243\n",
      "Epoch 7: val_loss improved from 0.23916 to 0.22322, saving model to ./data\\best_cnn_model.h5\n",
      "1500/1500 [==============================] - 35s 23ms/step - loss: 0.2044 - accuracy: 0.9244 - val_loss: 0.2232 - val_accuracy: 0.9185\n",
      "Epoch 8/20\n",
      "1498/1500 [============================>.] - ETA: 0s - loss: 0.1907 - accuracy: 0.9306\n",
      "Epoch 8: val_loss did not improve from 0.22322\n",
      "1500/1500 [==============================] - 33s 22ms/step - loss: 0.1906 - accuracy: 0.9306 - val_loss: 0.2296 - val_accuracy: 0.9196\n",
      "Epoch 9/20\n",
      "1498/1500 [============================>.] - ETA: 0s - loss: 0.1766 - accuracy: 0.9332\n",
      "Epoch 9: val_loss improved from 0.22322 to 0.22290, saving model to ./data\\best_cnn_model.h5\n",
      "1500/1500 [==============================] - 31s 21ms/step - loss: 0.1767 - accuracy: 0.9332 - val_loss: 0.2229 - val_accuracy: 0.9189\n",
      "Epoch 10/20\n",
      "1500/1500 [==============================] - ETA: 0s - loss: 0.1647 - accuracy: 0.9385\n",
      "Epoch 10: val_loss improved from 0.22290 to 0.21779, saving model to ./data\\best_cnn_model.h5\n",
      "1500/1500 [==============================] - 34s 23ms/step - loss: 0.1647 - accuracy: 0.9385 - val_loss: 0.2178 - val_accuracy: 0.9217\n",
      "Epoch 11/20\n",
      "1498/1500 [============================>.] - ETA: 0s - loss: 0.1517 - accuracy: 0.9428\n",
      "Epoch 11: val_loss did not improve from 0.21779\n",
      "1500/1500 [==============================] - 32s 21ms/step - loss: 0.1517 - accuracy: 0.9428 - val_loss: 0.2325 - val_accuracy: 0.9231\n",
      "Epoch 12/20\n",
      "1498/1500 [============================>.] - ETA: 0s - loss: 0.1407 - accuracy: 0.9461\n",
      "Epoch 12: val_loss did not improve from 0.21779\n",
      "1500/1500 [==============================] - 33s 22ms/step - loss: 0.1409 - accuracy: 0.9460 - val_loss: 0.2204 - val_accuracy: 0.9222\n"
     ]
    }
   ],
   "source": [
    "model.compile(optimizer=\"adam\", loss=\"sparse_categorical_crossentropy\", metrics=\"accuracy\")\n",
    "checkpoint_cb = keras.callbacks.ModelCheckpoint(\"./data/best_cnn_model.h5\",save_best_only=True, verbose=1)\n",
    "early_stopping_cb = keras.callbacks.EarlyStopping(patience=2, restore_best_weights=True)\n",
    "history = model.fit(train_scaled, train_target, epochs=20, verbose=1, validation_data=(val_scaled, val_target), callbacks=[checkpoint_cb, early_stopping_cb])"
   ]
  },
  {
   "cell_type": "code",
   "execution_count": 20,
   "metadata": {},
   "outputs": [
    {
     "data": {
      "image/png": "[encoded data removed]",
      "text/plain": [
       "<Figure size 720x360 with 1 Axes>"
      ]
     },
     "metadata": {
      "needs_background": "light"
     },
     "output_type": "display_data"
    }
   ],
   "source": [
    "plt.figure(figsize=(10,5))\n",
    "plt.plot(history.history[\"loss\"])\n",
    "plt.plot(history.history[\"val_loss\"])\n",
    "plt.show()"
   ]
  },
  {
   "cell_type": "code",
   "execution_count": 21,
   "metadata": {},
   "outputs": [
    {
     "data": {
      "text/plain": [
       "11"
      ]
     },
     "execution_count": 21,
     "metadata": {},
     "output_type": "execute_result"
    }
   ],
   "source": [
    "early_stopping_cb.stopped_epoch"
   ]
  },
  {
   "cell_type": "code",
   "execution_count": 22,
   "metadata": {},
   "outputs": [
    {
     "name": "stdout",
     "output_type": "stream",
     "text": [
      "375/375 [==============================] - 2s 6ms/step - loss: 0.2178 - accuracy: 0.9217\n"
     ]
    },
    {
     "data": {
      "text/plain": [
       "[0.21778936684131622, 0.92166668176651]"
      ]
     },
     "execution_count": 22,
     "metadata": {},
     "output_type": "execute_result"
    }
   ],
   "source": [
    "model.evaluate(val_scaled, val_target)"
   ]
  },
  {
   "cell_type": "code",
   "execution_count": 23,
   "metadata": {},
   "outputs": [
    {
     "data": {
      "image/png": "[encoded data removed]",
      "text/plain": [
       "<Figure size 432x288 with 1 Axes>"
      ]
     },
     "metadata": {
      "needs_background": "light"
     },
     "output_type": "display_data"
    }
   ],
   "source": [
    "plt.imshow(X=val_scaled[0].reshape(28,28), cmap=\"gray_r\")\n",
    "plt.show()"
   ]
  },
  {
   "cell_type": "code",
   "execution_count": 24,
   "metadata": {},
   "outputs": [
    {
     "name": "stdout",
     "output_type": "stream",
     "text": [
      "1/1 [==============================] - 0s 185ms/step\n"
     ]
    },
    {
     "data": {
      "text/plain": [
       "array([[1.6150296e-18, 1.9416401e-21, 3.4601427e-23, 1.8924020e-17,\n",
       "        1.1025436e-19, 4.8860591e-18, 9.5475036e-21, 3.3999810e-23,\n",
       "        1.0000000e+00, 1.1397362e-18]], dtype=float32)"
      ]
     },
     "execution_count": 24,
     "metadata": {},
     "output_type": "execute_result"
    }
   ],
   "source": [
    "# 예측\n",
    "result = model.predict(val_scaled[0:1])\n",
    "result"
   ]
  },
  {
   "cell_type": "code",
   "execution_count": 27,
   "metadata": {},
   "outputs": [
    {
     "name": "stdout",
     "output_type": "stream",
     "text": [
      "1/1 [==============================] - 0s 19ms/step\n"
     ]
    },
    {
     "data": {
      "text/plain": [
       "array([8], dtype=int64)"
      ]
     },
     "execution_count": 27,
     "metadata": {},
     "output_type": "execute_result"
    }
   ],
   "source": [
    "### 예측결과\n",
    "val_labels = np.argmax(model.predict(val_scaled[0:1]), axis=-1)\n",
    "val_labels\n",
    "# 8 : 가방"
   ]
  },
  {
   "cell_type": "code",
   "execution_count": 28,
   "metadata": {},
   "outputs": [],
   "source": [
    "classes = [\"티셔츠\", \"바지\", \"스웨터\", \"드레스\", \"코트\", \"샌달\", \"셔츠\", \"스니커즈\", \"가방\", \"앵클부츠\"]"
   ]
  },
  {
   "cell_type": "code",
   "execution_count": 30,
   "metadata": {},
   "outputs": [
    {
     "name": "stdout",
     "output_type": "stream",
     "text": [
      "가방\n"
     ]
    }
   ],
   "source": [
    "print(classes[np.argmax(result)])"
   ]
  },
  {
   "cell_type": "code",
   "execution_count": null,
   "metadata": {},
   "outputs": [],
   "source": []
  }
 ],
 "metadata": {
  "kernelspec": {
   "display_name": "Python 3.10.5 64-bit",
   "language": "python",
   "name": "python3"
  },
  "language_info": {
   "codemirror_mode": {
    "name": "ipython",
    "version": 3
   },
   "file_extension": ".py",
   "mimetype": "text/x-python",
   "name": "python",
   "nbconvert_exporter": "python",
   "pygments_lexer": "ipython3",
   "version": "3.10.5"
  },
  "orig_nbformat": 4,
  "vscode": {
   "interpreter": {
    "hash": "beedbe2faf2f7048d727558d0bc3221e7eba2a0b921cac4d4771b2feb8f74b30"
   }
  }
 },
 "nbformat": 4,
 "nbformat_minor": 2
}
